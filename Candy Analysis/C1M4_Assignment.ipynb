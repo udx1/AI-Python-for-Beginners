{
 "cells": [
  {
   "cell_type": "markdown",
   "id": "3dcb2108",
   "metadata": {},
   "source": [
    "# Programming Assignment: 🍭 Candy Analysis 📊"
   ]
  },
  {
   "cell_type": "markdown",
   "id": "53553efd",
   "metadata": {},
   "source": [
    "Welcome to the last programming assignment! 🎉 You've been tasked by \"DeepLearning.AI Sugar Rush Delights\" 🍬 to perform analysis on their candy catalog. 🍬 You have to dive into some sweet data about different candies, figure out which ones are the most popular, and give the marketing team some insights to sweeten their campaigns. 💪 Let's get started!"
   ]
  },
  {
   "cell_type": "markdown",
   "id": "3cd5b9d0",
   "metadata": {},
   "source": [
    "## Before you begin 🚦"
   ]
  },
  {
   "cell_type": "markdown",
   "id": "592a589f",
   "metadata": {},
   "source": [
    "If you **need a fresh copy of the assignment (reset)**, follow the [instructions](https://www.coursera.org/learn/ai-python-for-beginners/supplement/uW6bd/optional-downloading-your-notebook-downloading-your-workspace-and-refreshing) under the heading, \"`Refreshing your Workspace`\".\n",
    "\n",
    "<h2 style=\"color:green; font-weight:bold;\">INSTRUCTIONS FOR ATTEMPTING THE ASSIGNMENT:</h2>\n",
    "\n",
    "- Before starting each exercise, read the instructions carefully. Look for the part called **Your Task**, it tells you exactly what you need to code and gives you all the details you need.\n",
    "\n",
    "\n",
    "- In each exercise cell, look for comments `### START CODE HERE ###` and `### END CODE HERE ###`. These show you where to write your code. **Do not add or change any code that is outside these comments, or add any extra code cells in the notebook.**\n",
    "\n",
    "\n",
    "- After you finish coding an exercise, there will be a test section that checks your work using a function called `test_your_code`. If everything is correct, you'll see a message saying \"<span style=\"color: green;\">All tests passed!</span>\" and you can move on. <span style=\"color: red;\">If there's a mistake, you'll see a red message explaining what went wrong, so you can fix it.</span>\n",
    "\n",
    "\n",
    "- **Before submitting your notebook for grading, ensure ALL exercises are complete (gotten All tests passed! for all of them)**. Save your work by clicking the 💾 icon at the top left, then click the <span style=\"color: blue; font-weight: bold;\">Submit assignment</span> button at the top right.\n",
    "\n",
    "<h2 style=\"color:green; font-weight:bold;\">ASKING FOR HELP IN THE COMMUNITY FORUM:</h2>\n",
    "\n",
    "- Sign up for our [Community Forum](https://www.coursera.org/learn/ai-python-for-beginners/supplement/No2f2/important-have-questions-issues-or-ideas-join-our-forum) if you haven't already. Once signed up, post your questions in the [AP4B category](https://community.deeplearning.ai/c/course-q-a/ai-python-for-beginners/463) with detailed information, such as the item's name, exercise number, or code cell. This helps others understand your issue better. Share screenshots if you can, but **don't post solution code publicly**; instead, share the error message you receive.\n",
    "\n",
    "With that out of the way, let's begin!"
   ]
  },
  {
   "cell_type": "markdown",
   "id": "103d990e",
   "metadata": {},
   "source": [
    "## Table of Exercises\n",
    "\n",
    "- [Exercise 1: Unwrapping the Data 🎁](#1)\n",
    "- [Exercise 2: Popularity Contest! 🏆](#2)\n",
    "- [Exercise 3: Finding the Average Sweet Spot 🎯](#3)\n",
    "- [Exercise 4: The Top Candy Leaderboard 🥇](#4)\n",
    "- [Exercise 5: Crafting the Perfect Description ✍️](#5)"
   ]
  },
  {
   "cell_type": "markdown",
   "id": "59e04f40",
   "metadata": {},
   "source": [
    "### Assignment Starts From Here\n",
    "\n",
    "Before starting the assignment, run the cell below. It will bring in some helpful code to check if your solutions are correct and provide feedback if you need to make changes.\n",
    "\n",
    "**IMPORTANT NOTE**:  Always run this cell when starting or resuming your assignment. **DO NOT include it in any other notebook cells.**"
   ]
  },
  {
   "cell_type": "code",
   "execution_count": 1,
   "id": "7bdeac10",
   "metadata": {
    "deletable": false,
    "editable": false
   },
   "outputs": [],
   "source": [
    "import test_your_code"
   ]
  },
  {
   "cell_type": "markdown",
   "id": "766e89c9",
   "metadata": {},
   "source": [
    "<a name='1'></a>\n",
    "## Exercise 1: Unwrapping the Data 🎁\n",
    "\n",
    "**Instructions:**\n",
    "\n",
    "- The `ex1_helper_functions.py` file includes two functions:\n",
    "    -  `read_candy_data`: This function will help you open up the candy data file and see what's inside.  Think of it like opening a box of chocolates! 🍫\n",
    "    - `display_table`: This handy function takes the candy data you've read and displays it neatly in a table.\n",
    "    \n",
    "-  Import both of these helpful functions from the `ex1_helper_functions` file.\n",
    "\n",
    "**Your task:**\n",
    "\n",
    "- Import all (`*`) of the functions from the `ex1_helper_functions`"
   ]
  },
  {
   "cell_type": "code",
   "execution_count": 2,
   "id": "aa100c23",
   "metadata": {
    "deletable": false,
    "name": "import_cell_1",
    "tags": [
     "graded"
    ]
   },
   "outputs": [],
   "source": [
    "### START CODE HERE ###\n",
    "\n",
    "# Import using the format \"from file_name import all (*)\"\n",
    "# Add your code here\n",
    "from ex1_helper_functions import *\n",
    "\n",
    "### END CODE HERE ###"
   ]
  },
  {
   "cell_type": "markdown",
   "id": "4439fb97",
   "metadata": {},
   "source": [
    "**Note:** Once you see the <span style=\"color: green;\">All tests passed! Correct import statement used!</span> message, you can proceed the next step. Otherwise, it would mean your import statement or its format is not as expected. Fix it based on the feedback and re-run the exercise and test cells."
   ]
  },
  {
   "cell_type": "code",
   "execution_count": 3,
   "id": "d9a7ab03",
   "metadata": {
    "deletable": false,
    "editable": false
   },
   "outputs": [
    {
     "data": {
      "application/javascript": [
       "IPython.notebook.save_checkpoint();"
      ],
      "text/plain": [
       "<IPython.core.display.Javascript object>"
      ]
     },
     "metadata": {},
     "output_type": "display_data"
    },
    {
     "data": {
      "text/html": [
       "<p style=\"color: green;\">All tests passed! Correct import statement used!</p>"
      ],
      "text/plain": [
       "<IPython.core.display.HTML object>"
      ]
     },
     "execution_count": 3,
     "metadata": {},
     "output_type": "execute_result"
    }
   ],
   "source": [
    "# Test your code!\n",
    "test_your_code.check_ex1_import_statement()"
   ]
  },
  {
   "cell_type": "markdown",
   "id": "6d1a7395",
   "metadata": {},
   "source": [
    "**Your task:**\n",
    "*   Put that `read_candy_data` function to work!  Use it to read the file `candy_data.csv`. \n",
    "    *   Make sure you pass the file name `candy_data.csv` as a string to the function.    "
   ]
  },
  {
   "cell_type": "code",
   "execution_count": 4,
   "id": "0e0c7cc5",
   "metadata": {
    "deletable": false,
    "name": "exercise_1",
    "tags": [
     "graded"
    ]
   },
   "outputs": [
    {
     "data": {
      "text/html": [
       "<table border=\"1\" class=\"dataframe\">\n",
       "  <thead>\n",
       "    <tr style=\"text-align: right;\">\n",
       "      <th>Candy Name</th>\n",
       "      <th>Popularity Score</th>\n",
       "      <th>Price in USD</th>\n",
       "    </tr>\n",
       "  </thead>\n",
       "  <tbody>\n",
       "    <tr>\n",
       "      <td>Twix</td>\n",
       "      <td>92</td>\n",
       "      <td>1.25</td>\n",
       "    </tr>\n",
       "    <tr>\n",
       "      <td>PayDay</td>\n",
       "      <td>83</td>\n",
       "      <td>1.00</td>\n",
       "    </tr>\n",
       "    <tr>\n",
       "      <td>Reese's Peanut Butter Cups</td>\n",
       "      <td>85</td>\n",
       "      <td>1.50</td>\n",
       "    </tr>\n",
       "    <tr>\n",
       "      <td>3 Musketeers</td>\n",
       "      <td>84</td>\n",
       "      <td>1.00</td>\n",
       "    </tr>\n",
       "    <tr>\n",
       "      <td>Werther's Original</td>\n",
       "      <td>83</td>\n",
       "      <td>1.00</td>\n",
       "    </tr>\n",
       "    <tr>\n",
       "      <td>M&amp;M's</td>\n",
       "      <td>94</td>\n",
       "      <td>1.25</td>\n",
       "    </tr>\n",
       "    <tr>\n",
       "      <td>Milky Way</td>\n",
       "      <td>84</td>\n",
       "      <td>1.00</td>\n",
       "    </tr>\n",
       "    <tr>\n",
       "      <td>Snickers</td>\n",
       "      <td>95</td>\n",
       "      <td>1.25</td>\n",
       "    </tr>\n",
       "    <tr>\n",
       "      <td>Crunch</td>\n",
       "      <td>84</td>\n",
       "      <td>1.00</td>\n",
       "    </tr>\n",
       "    <tr>\n",
       "      <td>Laffy Taffy</td>\n",
       "      <td>83</td>\n",
       "      <td>0.75</td>\n",
       "    </tr>\n",
       "    <tr>\n",
       "      <td>Kit Kat</td>\n",
       "      <td>91</td>\n",
       "      <td>1.25</td>\n",
       "    </tr>\n",
       "    <tr>\n",
       "      <td>Twizzlers</td>\n",
       "      <td>83</td>\n",
       "      <td>1.00</td>\n",
       "    </tr>\n",
       "    <tr>\n",
       "      <td>Starburst</td>\n",
       "      <td>88</td>\n",
       "      <td>1.00</td>\n",
       "    </tr>\n",
       "    <tr>\n",
       "      <td>Almond Joy</td>\n",
       "      <td>84</td>\n",
       "      <td>1.00</td>\n",
       "    </tr>\n",
       "    <tr>\n",
       "      <td>Jolly Rancher</td>\n",
       "      <td>84</td>\n",
       "      <td>0.75</td>\n",
       "    </tr>\n",
       "    <tr>\n",
       "      <td>Butterfinger</td>\n",
       "      <td>84</td>\n",
       "      <td>1.00</td>\n",
       "    </tr>\n",
       "    <tr>\n",
       "      <td>Hershey's Milk Chocolate</td>\n",
       "      <td>84</td>\n",
       "      <td>1.00</td>\n",
       "    </tr>\n",
       "    <tr>\n",
       "      <td>Rolo</td>\n",
       "      <td>84</td>\n",
       "      <td>1.00</td>\n",
       "    </tr>\n",
       "    <tr>\n",
       "      <td>Dove Chocolate</td>\n",
       "      <td>84</td>\n",
       "      <td>1.00</td>\n",
       "    </tr>\n",
       "  </tbody>\n",
       "</table>"
      ],
      "text/plain": [
       "<IPython.core.display.HTML object>"
      ]
     },
     "metadata": {},
     "output_type": "display_data"
    }
   ],
   "source": [
    "### START CODE HERE ###\n",
    "\n",
    "# Use 'read_candy_data' to read the file `candy_data.csv`\n",
    "candy_data = read_candy_data('candy_data.csv') # Add your code here\n",
    "\n",
    "### END CODE HERE ###\n",
    "\n",
    "# Display the contents loaded into the `candy_data` variable\n",
    "display_table(candy_data)"
   ]
  },
  {
   "cell_type": "markdown",
   "id": "5dab4534",
   "metadata": {},
   "source": [
    "#### Expected Output\n",
    "\n",
    "| Candy Name            | Popularity Score | Price in USD |\n",
    "|-----------------------|------------------|------------------|\n",
    "| Twix  | 92  | 1.25               |\n",
    "| PayDay     | 83  | 1.00               |\n",
    "| .  | .               | .\n",
    "| .| .               | .\n",
    "| .    | .               | .\n",
    "| Rolo  | 84  | 1.00               |\n",
    "| Dove Chocolate     | 84  | 1.00               |"
   ]
  },
  {
   "cell_type": "code",
   "execution_count": 5,
   "id": "8a305f20",
   "metadata": {
    "deletable": false,
    "editable": false
   },
   "outputs": [
    {
     "data": {
      "application/javascript": [
       "IPython.notebook.save_checkpoint();"
      ],
      "text/plain": [
       "<IPython.core.display.Javascript object>"
      ]
     },
     "metadata": {},
     "output_type": "display_data"
    },
    {
     "name": "stdout",
     "output_type": "stream",
     "text": [
      "\u001b[92m All tests passed!\n"
     ]
    }
   ],
   "source": [
    "# Test your code!\n",
    "test_your_code.exercise_1(candy_data)"
   ]
  },
  {
   "cell_type": "markdown",
   "id": "00bd7c91",
   "metadata": {},
   "source": [
    "<a name='2'></a>\n",
    "## Exercise 2: Popularity Contest! 🏆\n",
    "\n",
    "**Instructions:**\n",
    "\n",
    "- The `ex2_helper_functions.py` file has more tools for you!\n",
    "    - `get_popularity_scores`: This function goes through your candy data and pulls out just the popularity scores. Think of it like separating the cherry filling from the rest of the candy. 🍒\n",
    "    -  `print_scores`: This function takes a list of scores and prints them for you.\n",
    "\n",
    "**Your task:**\n",
    "\n",
    "- Import the two `get_popularity_scores` and `print_scores` functions from `ex2_helper_functions`"
   ]
  },
  {
   "cell_type": "code",
   "execution_count": 6,
   "id": "20d91bec",
   "metadata": {
    "deletable": false,
    "name": "import_cell_2",
    "tags": [
     "graded"
    ]
   },
   "outputs": [],
   "source": [
    "### START CODE HERE ###\n",
    "\n",
    "# Import using the format \"from file_name import function_name_1, function_name_2\"\n",
    "# Add your code here\n",
    "from ex2_helper_functions import get_popularity_scores, print_scores\n",
    "\n",
    "### END CODE HERE ###"
   ]
  },
  {
   "cell_type": "markdown",
   "id": "f499fed0",
   "metadata": {},
   "source": [
    "**Note:** Once you see the <span style=\"color: green;\">All tests passed! Correct import statement used!</span> message, you can proceed the next step. Otherwise, it would mean your import statement or its format is not as expected. Fix it based on the feedback and re-run the exercise and test cells."
   ]
  },
  {
   "cell_type": "code",
   "execution_count": 7,
   "id": "411f303c",
   "metadata": {
    "deletable": false,
    "editable": false
   },
   "outputs": [
    {
     "data": {
      "text/html": [
       "<p style=\"color: green;\">All tests passed! Correct import statement used!</p>"
      ],
      "text/plain": [
       "<IPython.core.display.HTML object>"
      ]
     },
     "execution_count": 7,
     "metadata": {},
     "output_type": "execute_result"
    }
   ],
   "source": [
    "# Test your code!\n",
    "test_your_code.check_ex2_import_statement()"
   ]
  },
  {
   "cell_type": "markdown",
   "id": "a452896a",
   "metadata": {},
   "source": [
    "**Your task:**\n",
    "*   Now, let's see those popularity scores! Use the `get_popularity_scores` function with the `candy_data` you loaded earlier. "
   ]
  },
  {
   "cell_type": "code",
   "execution_count": 9,
   "id": "2623ad05",
   "metadata": {
    "deletable": false,
    "name": "exercise_2",
    "tags": [
     "graded"
    ]
   },
   "outputs": [
    {
     "name": "stdout",
     "output_type": "stream",
     "text": [
      "[92, 83, 85, 84, 83, 94, 84, 95, 84, 83, 91, 83, 88, 84, 84, 84, 84, 84, 84]\n"
     ]
    }
   ],
   "source": [
    "### START CODE HERE ###\n",
    "\n",
    "# Use 'get_popularity_scores' and pass in the lst `candy_data`\n",
    "popularity_scores = get_popularity_scores(candy_data) # Add your code here\n",
    "\n",
    "### END CODE HERE ###\n",
    "\n",
    "# Print the `popularity_scores` list\n",
    "print_scores(popularity_scores)"
   ]
  },
  {
   "cell_type": "markdown",
   "id": "57aea43d",
   "metadata": {},
   "source": [
    "#### Expected Output:\n",
    "\n",
    "```\n",
    "[92, 83, 85, 84, 83, 94, 84, 95, 84, 83, 91, 83, 88, 84, 84, 84, 84, 84, 84]\n",
    "```"
   ]
  },
  {
   "cell_type": "code",
   "execution_count": 10,
   "id": "76449d08",
   "metadata": {
    "deletable": false,
    "editable": false
   },
   "outputs": [
    {
     "data": {
      "application/javascript": [
       "IPython.notebook.save_checkpoint();"
      ],
      "text/plain": [
       "<IPython.core.display.Javascript object>"
      ]
     },
     "metadata": {},
     "output_type": "display_data"
    },
    {
     "name": "stdout",
     "output_type": "stream",
     "text": [
      "\u001b[92m All tests passed!\n"
     ]
    }
   ],
   "source": [
    "# Test your code!\n",
    "test_your_code.exercise_2(popularity_scores)"
   ]
  },
  {
   "cell_type": "markdown",
   "id": "249a8406",
   "metadata": {},
   "source": [
    "<a name='3'></a>\n",
    "## Exercise 3: Finding the Average Sweet Spot 🎯\n",
    "\n",
    "**Instructions:**\n",
    "\n",
    "- Python has a special built-in module called `statistics`.  It's like a secret compartment in your candy box full of useful tools! 🧰 \n",
    "- You're going to use the `mean` function from the module `statistics` to find the average popularity score.\n",
    "\n",
    "**Your task:**\n",
    "\n",
    "- Import the Python package `statistics` *as* `stats`"
   ]
  },
  {
   "cell_type": "code",
   "execution_count": 11,
   "id": "a5890a15",
   "metadata": {
    "deletable": false,
    "name": "import_cell_3",
    "tags": [
     "graded"
    ]
   },
   "outputs": [],
   "source": [
    "### START CODE HERE ###\n",
    "\n",
    "# Import using the format \"import module_name as alias\"\n",
    "# Use the alias name as \"stats\"\n",
    "# Add your code here\n",
    "import statistics as stats\n",
    "\n",
    "### END CODE HERE ###"
   ]
  },
  {
   "cell_type": "markdown",
   "id": "7a397dd9",
   "metadata": {},
   "source": [
    "**Note:** Once you see the <span style=\"color: green;\">All tests passed! Correct import statement used!</span> message, you can proceed the next step. Otherwise, it would mean your import statement or its format is not as expected. Fix it based on the feedback and re-run the exercise and test cells."
   ]
  },
  {
   "cell_type": "code",
   "execution_count": 12,
   "id": "db8c2f94",
   "metadata": {
    "deletable": false,
    "editable": false
   },
   "outputs": [
    {
     "data": {
      "text/html": [
       "<p style=\"color: green;\">All tests passed! Correct import statement used!</p>"
      ],
      "text/plain": [
       "<IPython.core.display.HTML object>"
      ]
     },
     "execution_count": 12,
     "metadata": {},
     "output_type": "execute_result"
    }
   ],
   "source": [
    "# Test your code!\n",
    "test_your_code.check_ex3_import_statement()"
   ]
  },
  {
   "cell_type": "markdown",
   "id": "62d8fc64",
   "metadata": {},
   "source": [
    "**Your task:**\n",
    "\n",
    "* Time to calculate! Use the `mean` function from your `stats` module (remember how to use an alias with the dot `.` ) to find the average popularity score of all the candies."
   ]
  },
  {
   "cell_type": "code",
   "execution_count": 13,
   "id": "c4ec355c",
   "metadata": {
    "deletable": false,
    "name": "exercise_3",
    "tags": [
     "graded"
    ]
   },
   "outputs": [
    {
     "name": "stdout",
     "output_type": "stream",
     "text": [
      "Average Popularity Score: 85.95\n"
     ]
    }
   ],
   "source": [
    "### START CODE HERE ###\n",
    "\n",
    "# Access the \"mean\" function in \"stats\"\n",
    "# Pass \"popularity_scores\" to the mean function\n",
    "avg_popularity = stats.mean(popularity_scores) # Add your code here\n",
    "\n",
    "### END CODE HERE ###\n",
    "\n",
    "### Print the average upto 2 decimal places\n",
    "print(f\"Average Popularity Score: {avg_popularity:.2f}\")"
   ]
  },
  {
   "cell_type": "markdown",
   "id": "6a2c0552",
   "metadata": {},
   "source": [
    "#### Expected Output\n",
    "\n",
    "```\n",
    "Average Popularity Score: 85.95\n",
    "```"
   ]
  },
  {
   "cell_type": "code",
   "execution_count": 14,
   "id": "12103e04",
   "metadata": {
    "deletable": false,
    "editable": false
   },
   "outputs": [
    {
     "data": {
      "application/javascript": [
       "IPython.notebook.save_checkpoint();"
      ],
      "text/plain": [
       "<IPython.core.display.Javascript object>"
      ]
     },
     "metadata": {},
     "output_type": "display_data"
    },
    {
     "name": "stdout",
     "output_type": "stream",
     "text": [
      "\u001b[92m All tests passed!\n"
     ]
    }
   ],
   "source": [
    "# Test your code!\n",
    "test_your_code.exercise_3(avg_popularity)"
   ]
  },
  {
   "cell_type": "markdown",
   "id": "a9b6238f",
   "metadata": {},
   "source": [
    "<a name='4'></a>\n",
    "## Exercise 4: The Top Candy Leaderboard 🥇\n",
    "\n",
    "\n",
    "**Instructions:**\n",
    "\n",
    "- You have even more tools in your `ex4_helper_functions.py` file!\n",
    "    -  `get_top_candies`:  This function is like a talent scout - it will find the candies whose popularity scores are above a certain level, \"avg_popularity\" (the average popularity you calculated in Exercise 3). \n",
    "    -  `display_pretty_table`:  This one makes the results look extra nice. ✨\n",
    "\n",
    "**Your task:**\n",
    "\n",
    "- Import the entire file `ex4_helper_functions`"
   ]
  },
  {
   "cell_type": "code",
   "execution_count": 15,
   "id": "4ef5fbb0",
   "metadata": {
    "deletable": false,
    "name": "import_cell_4",
    "tags": [
     "graded"
    ]
   },
   "outputs": [],
   "source": [
    "### START CODE HERE ###\n",
    "\n",
    "# Import using the format \"import file_name\"\n",
    "# Add your code here\n",
    "import ex4_helper_functions\n",
    "\n",
    "### END CODE HERE ###"
   ]
  },
  {
   "cell_type": "markdown",
   "id": "225e461c",
   "metadata": {},
   "source": [
    "**Note:** Once you see the <span style=\"color: green;\">All tests passed! Correct import statement used!</span> message, you can proceed the next step. Otherwise, it would mean your import statement or its format is not as expected. Fix it based on the feedback and re-run the exercise and test cells."
   ]
  },
  {
   "cell_type": "code",
   "execution_count": 16,
   "id": "edef3dac",
   "metadata": {
    "deletable": false,
    "editable": false
   },
   "outputs": [
    {
     "data": {
      "text/html": [
       "<p style=\"color: green;\">All tests passed! Correct import statement used!</p>"
      ],
      "text/plain": [
       "<IPython.core.display.HTML object>"
      ]
     },
     "execution_count": 16,
     "metadata": {},
     "output_type": "execute_result"
    }
   ],
   "source": [
    "# Test your code!\n",
    "test_your_code.check_ex4_import_statement()"
   ]
  },
  {
   "cell_type": "markdown",
   "id": "9f12f2ac",
   "metadata": {},
   "source": [
    "**Your task:**\n",
    "\n",
    "- Use the `get_top_candies` function to round up all the candies that have a popularity score higher than or equal to the `avg_popularity` you found. \n",
    "\n",
    "<details>\n",
    "    <summary><span style=\"color: blue; font-weight: bold;\">Hint: (click here to open)</span></summary>\n",
    "    <p>When you have imported the entire module/local file, you can access any function from it using the <code>.</code> (dot) character.</p>\n",
    "</details>"
   ]
  },
  {
   "cell_type": "code",
   "execution_count": 17,
   "id": "8c3e39ee",
   "metadata": {
    "deletable": false,
    "name": "exercise_4",
    "tags": [
     "graded"
    ]
   },
   "outputs": [
    {
     "name": "stdout",
     "output_type": "stream",
     "text": [
      "+------------+------------------+--------------+\n",
      "| Candy Name | Popularity Score | Price in USD |\n",
      "+------------+------------------+--------------+\n",
      "|    Twix    |        92        |     1.25     |\n",
      "|   M&M's    |        94        |     1.25     |\n",
      "|  Snickers  |        95        |     1.25     |\n",
      "|  Kit Kat   |        91        |     1.25     |\n",
      "| Starburst  |        88        |     1.0      |\n",
      "+------------+------------------+--------------+\n"
     ]
    }
   ],
   "source": [
    "### START CODE HERE ###\n",
    "\n",
    "# Access the \"get_top_candies\" function in \"ex4_helper_functions\"\n",
    "# Pass \"candy_data\" and \"avg_popularity\" to the \"get_top_candies\" function\n",
    "top_candies = ex4_helper_functions.get_top_candies(candy_data, avg_popularity) # Add your code here\n",
    "\n",
    "### END CODE HERE ###\n",
    "\n",
    "### Display the \"top_candies\" list\n",
    "ex4_helper_functions.display_pretty_table(top_candies)"
   ]
  },
  {
   "cell_type": "markdown",
   "id": "c43f91d2",
   "metadata": {},
   "source": [
    "#### Expected Output:\n",
    "\n",
    "```\n",
    "+------------+------------------+--------------+\n",
    "| Candy Name | Popularity Score | Price in USD |\n",
    "+------------+------------------+--------------+\n",
    "|    Twix    |        92        |     1.25     |\n",
    "|   M&M's    |        94        |     1.25     |\n",
    "|  Snickers  |        95        |     1.25     |\n",
    "|  Kit Kat   |        91        |     1.25     |\n",
    "| Starburst  |        88        |     1.0      |\n",
    "+------------+------------------+--------------+\n",
    "```"
   ]
  },
  {
   "cell_type": "code",
   "execution_count": 18,
   "id": "d63d8e47",
   "metadata": {
    "deletable": false,
    "editable": false
   },
   "outputs": [
    {
     "data": {
      "application/javascript": [
       "IPython.notebook.save_checkpoint();"
      ],
      "text/plain": [
       "<IPython.core.display.Javascript object>"
      ]
     },
     "metadata": {},
     "output_type": "display_data"
    },
    {
     "name": "stdout",
     "output_type": "stream",
     "text": [
      "\u001b[92m All tests passed!\n"
     ]
    }
   ],
   "source": [
    "# Test your code!\n",
    "test_your_code.exercise_4(top_candies)"
   ]
  },
  {
   "cell_type": "markdown",
   "id": "ffd5dec7",
   "metadata": {},
   "source": [
    "<a name='5'></a>\n",
    "## Exercise 5: Crafting the Perfect Description ✍️\n",
    "\n",
    "Great work identifying the top candies! 🎉 Now, let's help the marketing team really sell these tasty treats. 🍫 You'll use the `get_llm_response` function provided to you below to generate a short, catchy two-sentence description for each of the top candies. \n",
    "\n",
    "You can adjust the temperature and content variables to fine-tune the responses from the LLM.\n",
    "\n",
    "Run the cell below to import the `client` which will help run the `get_llm_response` function."
   ]
  },
  {
   "cell_type": "code",
   "execution_count": 19,
   "id": "46b30c32",
   "metadata": {
    "deletable": false,
    "editable": false,
    "tags": [
     "graded"
    ]
   },
   "outputs": [],
   "source": [
    "from ex5_helper_functions import client"
   ]
  },
  {
   "cell_type": "markdown",
   "id": "b5a0934b",
   "metadata": {},
   "source": [
    "**Your task:**\n",
    "- Play around with different `temperature` settings.\n",
    "- Play around with a different `content` description.\n",
    "\n",
    "**Note** In order to get a successful grade for this exercise, you have to set values for other than `temperature=0.0` and  `\"content\": \"You are an AI assistant.\"`\n",
    "\n",
    "**Fun Suggestion**: For `content`, you can use \"You talk like a Pirate.\" and temperature as `0.5`."
   ]
  },
  {
   "cell_type": "code",
   "execution_count": 20,
   "id": "0745c0ee",
   "metadata": {
    "deletable": false,
    "name": "cell_for_ex5",
    "tags": [
     "graded"
    ]
   },
   "outputs": [],
   "source": [
    "### START CODE HERE ###\n",
    "\n",
    "def get_llm_response(prompt):\n",
    "    completion = client.chat.completions.create( \n",
    "        model='gpt-4o-mini', \n",
    "        messages=[ \n",
    "            {\n",
    "                \"role\": \"system\",\n",
    "                \"content\": \"You are an funny nutty AI assistant.\", # <-- You have to make change here\n",
    "            },\n",
    "            {\"role\": \"user\", \"content\": prompt},\n",
    "        ],\n",
    "        temperature=0.5, # <-- You have to make change here \n",
    "    )\n",
    "    response = completion.choices[0].message.content \n",
    "    return response\n",
    "\n",
    "### END CODE HERE ###"
   ]
  },
  {
   "cell_type": "code",
   "execution_count": 21,
   "id": "a8a8603b",
   "metadata": {
    "deletable": false,
    "editable": false
   },
   "outputs": [
    {
     "data": {
      "application/javascript": [
       "IPython.notebook.save_checkpoint();"
      ],
      "text/plain": [
       "<IPython.core.display.Javascript object>"
      ]
     },
     "metadata": {},
     "output_type": "display_data"
    },
    {
     "name": "stdout",
     "output_type": "stream",
     "text": [
      "\u001b[92m All tests passed!\n"
     ]
    }
   ],
   "source": [
    "# Test your code!\n",
    "test_your_code.check_change_in_ex5()"
   ]
  },
  {
   "cell_type": "markdown",
   "id": "3e4990c9",
   "metadata": {},
   "source": [
    "**Note:** Once you see the <span style=\"color: green;\">All tests passed!</span> message, it means you can move on to the next step. Otherwise, make changes to your `get_llm_response` as instructed."
   ]
  },
  {
   "cell_type": "markdown",
   "id": "9916f74f",
   "metadata": {},
   "source": [
    "### Submission Note:\n",
    "If you have passed all the tests up to this point, you can submit your assignment for grading.\n",
    "\n",
    "**But before you submit your assignment, re-run the assignment just in case there are any unexpected errors present in the notebook once it goes for grading.** To do so, follow these steps:\n",
    "\n",
    "1. Restart the `Kernel` and select the `Restart & Clear Output` option. You can do this by clicking on the `Kernel` menu at the top of the notebook.\n",
    "![Kernel Restart Image](kernel_restart.png)\n",
    "2. Once the kernel restarts and all outputs are clear, run the cells from top to bottom again up to this point.\n",
    "\n",
    "If you have followed these steps and still pass all of the tests, you can submit your assignment for grading. If you encounter any errors, please fix them before submitting.\n",
    "\n",
    "To submit your assignment for grading, save your work by clicking the 💾 icon at the top left, then click the <span style=\"color: blue; font-weight: bold;\">Submit assignment</span> button at the top right. Good luck!\n",
    "\n",
    "Running the below cell is OPTIONAL and will not affect your grading in anyway."
   ]
  },
  {
   "cell_type": "code",
   "execution_count": 22,
   "id": "3e8689b1",
   "metadata": {
    "deletable": false,
    "editable": false
   },
   "outputs": [
    {
     "name": "stdout",
     "output_type": "stream",
     "text": [
      "NAME: Twix\n",
      "DESCRIPTION: Twix: the delicious duo that brings together crunchy cookie, creamy caramel, and smooth chocolate in a sweet symphony! One bite and you'll be saying, \"Twix me, I'm dreaming!\"\n",
      "\n",
      "NAME: M&M's\n",
      "DESCRIPTION: M&M's: the colorful little candies that melt in your mouth, not in your hand—unless you’re a magician, then all bets are off! With a crunchy shell and a chocolatey center, they’re the perfect excuse to embrace your inner child while dodging adulting responsibilities!\n",
      "\n",
      "NAME: Snickers\n",
      "DESCRIPTION: Snickers: the candy bar that’s like a party in your mouth, featuring a delightful mix of chocolate, nougat, caramel, and peanuts! It’s the only thing that can satisfy your hunger and your sweet tooth while making your taste buds do the cha-cha!\n",
      "\n",
      "NAME: Kit Kat\n",
      "DESCRIPTION: Dive into the crispy layers of Kit Kat, where every break unleashes a symphony of chocolatey delight! It's the perfect treat for those who believe life is too short to eat just one—so go ahead, have a break and make it a double! 🍫✨\n",
      "\n",
      "NAME: Starburst\n",
      "DESCRIPTION: Unwrap a burst of fruity fun with Starburst, where every chewy piece is a flavor explosion waiting to tickle your taste buds! It's like a party in your mouth, and everyone's invited—just don’t forget to share… or maybe just don’t! 🍬✨\n",
      "\n"
     ]
    }
   ],
   "source": [
    "for candy in top_candies:\n",
    "    \n",
    "    prompt = f\"\"\"\n",
    "    For the given candy name, {candy['Candy Name']}, write a short, catchy two-sentence description.\n",
    "    \"\"\"\n",
    "    \n",
    "    response = get_llm_response(prompt)\n",
    "    \n",
    "    print(f\"NAME: {candy['Candy Name']}\")\n",
    "    print(f\"DESCRIPTION: {response}\")\n",
    "    print()"
   ]
  },
  {
   "cell_type": "markdown",
   "id": "8df99bc4",
   "metadata": {},
   "source": [
    "## Conclusion\n",
    "That's a wrap! You've used Python to import data, analyze it, and even generate descriptions! Give yourself a pat on the back for completing this assignment. You've taken another step forward in your Python journey, and we can't wait to see what you accomplish next! 😊"
   ]
  }
 ],
 "metadata": {
  "grader_version": "1",
  "kernelspec": {
   "display_name": "Python 3 (ipykernel)",
   "language": "python",
   "name": "python3"
  },
  "language_info": {
   "codemirror_mode": {
    "name": "ipython",
    "version": 3
   },
   "file_extension": ".py",
   "mimetype": "text/x-python",
   "name": "python",
   "nbconvert_exporter": "python",
   "pygments_lexer": "ipython3",
   "version": "3.9.13"
  }
 },
 "nbformat": 4,
 "nbformat_minor": 5
}
