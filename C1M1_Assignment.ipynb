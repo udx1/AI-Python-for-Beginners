{
 "cells": [
  {
   "cell_type": "markdown",
   "id": "475f32fe",
   "metadata": {},
   "source": [
    "# Programming Assignment: Working with a Virtual Library 💻\n",
    "\n",
    "Welcome to your first graded assignment! In this assignment, you'll be working with a virtual library system. Don't worry, you won't be actually coding the library. Instead, you'll be using your Python skills to interact with some pre-defined library information."
   ]
  },
  {
   "cell_type": "markdown",
   "id": "32a84d57",
   "metadata": {},
   "source": [
    "## Before you begin 🚦"
   ]
  },
  {
   "cell_type": "markdown",
   "id": "ba452ed1",
   "metadata": {},
   "source": [
    "If you **need a fresh copy of the assignment (reset)**, follow the [instructions](https://www.coursera.org/learn/ai-python-for-beginners/supplement/uW6bd/optional-downloading-your-notebook-downloading-your-workspace-and-refreshing) under the heading, \"`Refreshing your Workspace`\".\n",
    "\n",
    "<h2 style=\"color:green; font-weight:bold;\">INSTRUCTIONS FOR ATTEMPTING THE ASSIGNMENT:</h2>\n",
    "\n",
    "- Before starting each exercise, read the instructions carefully. Look for the part called **Your Task**, it tells you exactly what you need to code and gives you all the details you need.\n",
    "\n",
    "\n",
    "- In each exercise cell, look for comments `### START CODE HERE ###` and `### END CODE HERE ###`. These show you where to write your code. **Do not add or change any code that is outside these comments, or add any extra code cells in the notebook.**\n",
    "\n",
    "\n",
    "- After you finish coding an exercise, there will be a test section that checks your work using a function called `test_your_code`. If everything is correct, you'll see a message saying \"<span style=\"color: green;\">All tests passed!</span>\" and you can move on. <span style=\"color: red;\">If there's a mistake, you'll see a red message explaining what went wrong, so you can fix it.</span>\n",
    "\n",
    "\n",
    "- **Before submitting your notebook for grading, ensure ALL exercises are complete (gotten All tests passed! for all of them)**. Save your work by clicking the 💾 icon at the top left, then click the <span style=\"color: blue; font-weight: bold;\">Submit assignment</span> button at the top right.\n",
    "\n",
    "<h2 style=\"color:green; font-weight:bold;\">ASKING FOR HELP IN THE COMMUNITY FORUM:</h2>\n",
    "\n",
    "- Sign up for our [Community Forum](https://www.coursera.org/learn/ai-python-for-beginners/supplement/No2f2/important-have-questions-issues-or-ideas-join-our-forum) if you haven't already. Once signed up, post your questions in the [AP4B category](https://community.deeplearning.ai/c/course-q-a/ai-python-for-beginners/463) with detailed information, such as the item's name, exercise number, or code cell. This helps others understand your issue better. Share screenshots if you can, but **don't post solution code publicly**; instead, share the error message you receive.\n",
    "\n",
    "With that out of the way, let's begin!"
   ]
  },
  {
   "cell_type": "markdown",
   "id": "7fce27fa",
   "metadata": {},
   "source": [
    "## Table of Exercises\n",
    "\n",
    "- [Exercise 1: Book Information ℹ️](#1)\n",
    "    - [Exercise 1-A: Defining Variables](#1-a)\n",
    "    - [Exercise 1-B: Print Statements](#1-b)\n",
    "- [Exercise 2: Checking Out a Book 📖](#2)\n",
    "- [Exercise 3: Book Request 📚 ](#3)"
   ]
  },
  {
   "cell_type": "markdown",
   "id": "ad4cd945",
   "metadata": {},
   "source": [
    "### Assignment Starts From Here\n",
    "\n",
    "Before starting the assignment, run the cell below. It will bring in some helpful code to check if your solutions are correct and provide feedback if you need to make changes. You'll learn more about how this works as you progress through the course.\n",
    "\n",
    "**IMPORTANT NOTE**:  Always run this cell when starting or resuming your assignment. **DO NOT include it in any other notebook cells.**"
   ]
  },
  {
   "cell_type": "code",
   "execution_count": 3,
   "id": "2994c8c8",
   "metadata": {
    "deletable": false,
    "editable": false
   },
   "outputs": [],
   "source": [
    "import test_your_code"
   ]
  },
  {
   "cell_type": "markdown",
   "id": "005eb67c",
   "metadata": {},
   "source": [
    "<a name='1'></a>\n",
    "## Exercise 1: Book Information ℹ️\n",
    "\n",
    "Let's assume the library has the following books and their information:\n",
    "\n",
    "| Book Title          | Author             | Year Published | Available Copies |\n",
    "|---------------------|---------------------|---------------|-----------------|\n",
    "| The Lord of the Rings | J.R.R. Tolkien    | 1954           | 2              |\n",
    "| Brave New World | Aldous Huxley    | 1932           | 4              |\n",
    "| The Hitchhiker's Guide to the Galaxy | Douglas Adams      | 1979           | 5              |\n",
    "| Pride and Prejudice | Jane Austen        | 1813           | 1              |\n",
    "| To Kill a Mockingbird| Harper Lee         | 1960           | 0              |"
   ]
  },
  {
   "cell_type": "markdown",
   "id": "26b2def0",
   "metadata": {},
   "source": [
    "<a name='1-a'></a>\n",
    "### Exercise 1-A: Defining Variables\n",
    "\n",
    "One of the books available in your virtual library is:\n",
    "\n",
    "| Book Title          | Author             | Year Published | Available Copies |\n",
    "|---------------------|---------------------|---------------|-----------------|\n",
    "| Brave New World | Aldous Huxley    | 1932           | 4              |\n",
    "\n",
    "\n",
    "**Your Task:** \n",
    "\n",
    "Store the information of this book into Python variables `book_title`, `author`, `year_published` and `available_copies`"
   ]
  },
  {
   "cell_type": "code",
   "execution_count": 4,
   "id": "8b31a3e8",
   "metadata": {
    "deletable": false,
    "name": "exercise_1a",
    "tags": [
     "graded"
    ]
   },
   "outputs": [],
   "source": [
    "### START CODE HERE ###\n",
    "\n",
    "# Store the title of the book `Brave New World` as a string\n",
    "book_title = \"Brave New World\" # Add your code here\n",
    "\n",
    "# Store the author `Aldous Huxley` of the book as a string\n",
    "# Add your code here\n",
    "author = \"Aldous Huxley\"\n",
    "\n",
    "# Store the year `1932` the book was published as an integer\n",
    "# Add your code here\n",
    "year_published = 1932\n",
    "\n",
    "# Store the number of available copies `4` of the book as an integer\n",
    "# Add your code here\n",
    "available_copies = 4\n",
    "### END CODE HERE ###"
   ]
  },
  {
   "cell_type": "markdown",
   "id": "85f58cdf",
   "metadata": {},
   "source": [
    "Run the next cell to check if your code is correct. In case you receive an error please make sure you defined the required variables with the correct names."
   ]
  },
  {
   "cell_type": "code",
   "execution_count": 5,
   "id": "980d4b75",
   "metadata": {
    "deletable": false,
    "editable": false
   },
   "outputs": [
    {
     "data": {
      "application/javascript": [
       "IPython.notebook.save_checkpoint();"
      ],
      "text/plain": [
       "<IPython.core.display.Javascript object>"
      ]
     },
     "metadata": {},
     "output_type": "display_data"
    },
    {
     "name": "stdout",
     "output_type": "stream",
     "text": [
      "\u001b[92m All tests passed!\n"
     ]
    }
   ],
   "source": [
    "# Test your code!\n",
    "test_your_code.exercise_1a(book_title, author, year_published, available_copies)"
   ]
  },
  {
   "cell_type": "markdown",
   "id": "c608a339",
   "metadata": {},
   "source": [
    "**Important Note:** If you see <span style=\"color: green;\">All tests passed!</span>, you can proceed to the next step. If there's an error message <span style=\"color: red;\">in red</span>, follow the instructions to fix it, then re-run the exercise and test cells until you get the <span style=\"color: green;\">All tests passed!</span> message. Repeat this process for all exercises in the assignment."
   ]
  },
  {
   "cell_type": "markdown",
   "id": "4801fae9",
   "metadata": {},
   "source": [
    "<a name='1-b'></a>\n",
    "### Exercise 1-B: Print Statements \n",
    "\n",
    "**Your Task:**\n",
    "\n",
    "Write a Python program using **f-string** that uses the above variables (`book_title`, `author`, `year_published` and `available_copies`) to print information about the book in the following format:\n",
    "\n",
    "```\n",
    "Title: <Book Title>\n",
    "Author: <Author>\n",
    "Published: <Year Published>\n",
    "Available Copies: <Available Copies>\n",
    "```\n",
    "\n",
    "Make sure to use a separate print statement for every variable!"
   ]
  },
  {
   "cell_type": "code",
   "execution_count": 6,
   "id": "55559699",
   "metadata": {
    "deletable": false,
    "name": "exercise_1b",
    "tags": [
     "graded"
    ]
   },
   "outputs": [
    {
     "name": "stdout",
     "output_type": "stream",
     "text": [
      "Title: Brave New World\n",
      "Author: Aldous Huxley\n",
      "Published: 1932\n",
      "Available Copies: 4\n"
     ]
    }
   ],
   "source": [
    "### START CODE HERE ###\n",
    "\n",
    "# Print the Title: `book_title` using an f-string\n",
    "print(f\"Title: {book_title}\")\n",
    "\n",
    "# Print the Author: `author` using an f-string\n",
    "# Add your code here\n",
    "print(f\"Author: {author}\")\n",
    "\n",
    "# Print Published: `year_published` using an f-string\n",
    "# Add your code here\n",
    "print(f\"Published: {year_published}\")\n",
    "\n",
    "# Print Available Copies: `available_copies` using an f-string\n",
    "# Add your code here\n",
    "print(f\"Available Copies: {available_copies}\")\n",
    "\n",
    "### END CODE HERE ###"
   ]
  },
  {
   "cell_type": "markdown",
   "id": "6024f448",
   "metadata": {},
   "source": [
    "#### Expected Output:\n",
    "\n",
    "```\n",
    "Title: Brave New World\n",
    "Author: Aldous Huxley\n",
    "Published: 1932\n",
    "Available Copies: 4\n",
    "```"
   ]
  },
  {
   "cell_type": "code",
   "execution_count": 7,
   "id": "788f4cc2",
   "metadata": {
    "deletable": false,
    "editable": false
   },
   "outputs": [
    {
     "data": {
      "application/javascript": [
       "IPython.notebook.save_checkpoint();"
      ],
      "text/plain": [
       "<IPython.core.display.Javascript object>"
      ]
     },
     "metadata": {},
     "output_type": "display_data"
    },
    {
     "name": "stdout",
     "output_type": "stream",
     "text": [
      "\u001b[92m All tests passed!\n"
     ]
    }
   ],
   "source": [
    "# Test your code!\n",
    "test_your_code.exercise_1b()"
   ]
  },
  {
   "cell_type": "markdown",
   "id": "031ebd92",
   "metadata": {},
   "source": [
    "<a name='2'></a>\n",
    "## Exercise 2: Checking Out a Book 📖\n",
    "\n",
    "Now, let's imagine an user wants to check out the book \"Brave New World\".\n",
    "\n",
    "**Your Task:**\n",
    "\n",
    "Write a program that:\n",
    "\n",
    "1.  **Reduces** the number of `available_copies` by 1 (representing a book being checked out). \n",
    "    - The current `available_copies` for the book \"Brave New World\" are `4`.\n",
    "    \n",
    "<details>\n",
    "<summary><span style=\"color:blue; font-weight:bold;\">Hint (Click here to open)</span></summary>\n",
    "\n",
    "In Python, you can update the value of a variable using the variable itself. For example:  \n",
    "If `number_of_apples = 5`  \n",
    "doing  \n",
    "`number_of_apples = number_of_apples + 2`  \n",
    "will be a valid line of code. Now the updated value of `number_of_apples` will be 7.\n",
    "\n",
    "</details>"
   ]
  },
  {
   "cell_type": "markdown",
   "id": "6245d856",
   "metadata": {},
   "source": [
    "2.  **Prints** a message confirming the checkout, including the book title (`book_title`) and the remaining available copies (`available_copies`).\n",
    "    - The printed message should be in the format using **multi-line f-string** as, `One copy of <Book Title> checked out. There are now <Available Copies> copies available.`"
   ]
  },
  {
   "cell_type": "code",
   "execution_count": 8,
   "id": "f1a434d5",
   "metadata": {
    "deletable": false,
    "name": "exercise_2",
    "tags": [
     "graded"
    ]
   },
   "outputs": [
    {
     "name": "stdout",
     "output_type": "stream",
     "text": [
      "\n",
      "One copy of Brave New World checked out. There are now 3 copies available.\n",
      "\n"
     ]
    }
   ],
   "source": [
    "available_copies = 4 ### DO NOT EDIT OR REMOVE THIS CODE LINE\n",
    "\n",
    "### START CODE HERE ###\n",
    "\n",
    "# 1. Reduce the number of \"available_copies\" by a value of 1\n",
    "available_copies = available_copies - 1 \n",
    "\n",
    "# 2. Print the message, confirming the checkout. Use multi-line f-string\n",
    "# In your print statment, use \"book_title\" you implemented in exercise 1\n",
    "# Use \"available_copies\" you calculated above\n",
    "print(f\"\"\"\n",
    "One copy of {book_title} checked out. There are now {available_copies} copies available.\n",
    "\"\"\")\n",
    "\n",
    "### END CODE HERE ###"
   ]
  },
  {
   "cell_type": "markdown",
   "id": "266c2042",
   "metadata": {},
   "source": [
    "#### Expected Output:\n",
    "```\n",
    "One copy of Brave New World checked out. There are now 3 copies available.\n",
    "```"
   ]
  },
  {
   "cell_type": "code",
   "execution_count": 9,
   "id": "692ab599",
   "metadata": {
    "deletable": false,
    "editable": false
   },
   "outputs": [
    {
     "data": {
      "application/javascript": [
       "IPython.notebook.save_checkpoint();"
      ],
      "text/plain": [
       "<IPython.core.display.Javascript object>"
      ]
     },
     "metadata": {},
     "output_type": "display_data"
    },
    {
     "name": "stdout",
     "output_type": "stream",
     "text": [
      "\u001b[92m All tests passed!\n"
     ]
    }
   ],
   "source": [
    "# Test your code!\n",
    "test_your_code.exercise_2(available_copies)  "
   ]
  },
  {
   "cell_type": "markdown",
   "id": "a73bccc3",
   "metadata": {},
   "source": [
    "<a name='3'></a>\n",
    "## Exercise 3: Book Request 📚 \n",
    "\n",
    "An user wants to borrow \"To Kill a Mockingbird\". However, there are no copies currently available.\n",
    "\n",
    "| Book Title          | Author             | Year Published | Available Copies |\n",
    "|---------------------|---------------------|---------------|-----------------|\n",
    "| To Kill a Mockingbird| Harper Lee         | 1960           | 0              |\n",
    "\n",
    "**Your Task:**\n",
    "\n",
    "Write Python code that:\n",
    "\n",
    "1.  **Stores** the name of the requested book in a variable called `requested_book`.\n",
    "2.  **Prints** a message telling the user that the book is currently unavailable, but they can request it.\n",
    "    - The printed message should be in the format using **multi-line f-string** as, `<Requested Book> is currently unavailable. You can request it from the library.`"
   ]
  },
  {
   "cell_type": "code",
   "execution_count": 10,
   "id": "f75350fd",
   "metadata": {
    "deletable": false,
    "name": "exercise_3",
    "tags": [
     "graded"
    ]
   },
   "outputs": [
    {
     "name": "stdout",
     "output_type": "stream",
     "text": [
      "\n",
      "To Kill a Mockingbird is currently unavailable. You can request it from the library.\n",
      "\n"
     ]
    }
   ],
   "source": [
    "### START CODE HERE ###\n",
    "\n",
    "# 1. Store the name of the book `To Kill a Mockingbird` in a variable called `requested_book`\n",
    "# Add your code here\n",
    "requested_book = \"To Kill a Mockingbird\"\n",
    "\n",
    "# 2. Print the message using multi-line f-string\n",
    "# Add your code here\n",
    "print(f\"\"\"\n",
    "{requested_book} is currently unavailable. You can request it from the library.\n",
    "\"\"\")\n",
    "\n",
    "### END CODE HERE ###"
   ]
  },
  {
   "cell_type": "markdown",
   "id": "8902d8cc",
   "metadata": {},
   "source": [
    "#### Expected Output:\n",
    "```\n",
    "To Kill a Mockingbird is currently unavailable. You can request it from the library.\n",
    "```"
   ]
  },
  {
   "cell_type": "code",
   "execution_count": 11,
   "id": "d6e8b48a",
   "metadata": {
    "deletable": false,
    "editable": false
   },
   "outputs": [
    {
     "data": {
      "application/javascript": [
       "IPython.notebook.save_checkpoint();"
      ],
      "text/plain": [
       "<IPython.core.display.Javascript object>"
      ]
     },
     "metadata": {},
     "output_type": "display_data"
    },
    {
     "name": "stdout",
     "output_type": "stream",
     "text": [
      "\u001b[92m All tests passed!\n"
     ]
    }
   ],
   "source": [
    "# Test your code!\n",
    "test_your_code.exercise_3(requested_book)  "
   ]
  },
  {
   "cell_type": "markdown",
   "id": "eb8c4206",
   "metadata": {},
   "source": [
    "### Submission Note:\n",
    "If you have passed all the tests up to this point, you can submit your assignment for grading.\n",
    "\n",
    "**But before you submit your assignment, re-run the assignment just in case there are any unexpected errors present in the notebook once it goes for grading.** To do so, follow these steps:\n",
    "\n",
    "1. Restart the `Kernel` and select the `Restart & Clear Output` option. You can do this by clicking on the `Kernel` menu at the top of the notebook.\n",
    "![Kernel Restart Image](kernel_restart.png)\n",
    "2. Once the kernel restarts and all outputs are clear, run the cells from top to bottom again up to this point.\n",
    "\n",
    "If you have followed these steps and still pass all of the tests, you can submit your assignment for grading. If you encounter any errors, please fix them before submitting.\n",
    "\n",
    "To submit your assignment for grading, save your work by clicking the 💾 icon at the top left, then click the <span style=\"color: blue; font-weight: bold;\">Submit assignment</span> button at the top right. Good luck!"
   ]
  },
  {
   "cell_type": "markdown",
   "id": "a6fc78d3",
   "metadata": {},
   "source": [
    "**🎉 Congratulations on completing your first programming assignment! 🎉**\n",
    "\n",
    "**You've taken a significant step on your journey to becoming a skilled programmer. Your dedication and hard work have paid off, and you should be proud of what you've accomplished. 💪**\n",
    "\n",
    "**Remember, every line of code you write brings you closer to mastering this valuable skill. Keep pushing forward, stay curious, and continue to explore the endless possibilities that programming offers. 🚀**\n",
    "\n",
    "**This is just the beginning, and there are many more exciting challenges ahead. We encourage you to keep up the momentum and continue through the course 👩‍💻👨‍💻**"
   ]
  },
  {
   "cell_type": "code",
   "execution_count": null,
   "id": "61534127",
   "metadata": {},
   "outputs": [],
   "source": []
  }
 ],
 "metadata": {
  "grader_version": "1",
  "kernelspec": {
   "display_name": "Python 3 (ipykernel)",
   "language": "python",
   "name": "python3"
  },
  "language_info": {
   "codemirror_mode": {
    "name": "ipython",
    "version": 3
   },
   "file_extension": ".py",
   "mimetype": "text/x-python",
   "name": "python",
   "nbconvert_exporter": "python",
   "pygments_lexer": "ipython3",
   "version": "3.9.13"
  }
 },
 "nbformat": 4,
 "nbformat_minor": 5
}
