{
 "cells": [
  {
   "cell_type": "markdown",
   "id": "f13eafaf",
   "metadata": {},
   "source": [
    "# Programming Assignment: Pluto's Poetic Journey 🚀 \n",
    "\n",
    "Welcome to your next mission! 🧑‍🚀 In this exciting adventure, you'll be diving into the fascinating world of space exploration and poetry (yes, you read that right, poetry! 🖋️). You'll be using Python to analyze a captivating news article about the New Horizons spacecraft's journey to Pluto and its discoveries. Get ready to flex your coding muscles and unleash your inner poet! 💫\n",
    "\n",
    "## The Mission Briefing 📰\n",
    "\n",
    "Your mission begins with a [news article](https://edition.cnn.com/2020/07/15/world/pluto-new-horizons-anniversary-scn-trnd/index.html) detailing the incredible findings from the New Horizons mission. The spacecraft has sent back a treasure trove of information about the dwarf planet Pluto, revealing its secrets and captivating our imaginations. However, the article is quite long, and you need a more efficient way to understand its key themes.\n",
    "\n",
    "Time for your Python skills to blast off! 🚀"
   ]
  },
  {
   "cell_type": "markdown",
   "id": "ed5f9b69",
   "metadata": {
    "tags": [
     "graded"
    ]
   },
   "source": [
    "## Before you begin 🚦"
   ]
  },
  {
   "cell_type": "markdown",
   "id": "feec088c",
   "metadata": {},
   "source": [
    "If you **need a fresh copy of the assignment (reset)**, follow the [instructions](https://www.coursera.org/learn/ai-python-for-beginners/supplement/uW6bd/optional-downloading-your-notebook-downloading-your-workspace-and-refreshing) under the heading, \"`Refreshing your Workspace`\".\n",
    "\n",
    "<h2 style=\"color:green; font-weight:bold;\">INSTRUCTIONS FOR ATTEMPTING THE ASSIGNMENT:</h2>\n",
    "\n",
    "- Before starting each exercise, read the instructions carefully. Look for the part called **Your Task**, it tells you exactly what you need to code and gives you all the details you need.\n",
    "\n",
    "\n",
    "- In each exercise cell, look for comments `### START CODE HERE ###` and `### END CODE HERE ###`. These show you where to write your code. **Do not add or change any code that is outside these comments, or add any extra code cells in the notebook.**\n",
    "\n",
    "\n",
    "- After you finish coding an exercise, there will be a test section that checks your work using a function called `test_your_code`. If everything is correct, you'll see a message saying \"<span style=\"color: green;\">All tests passed!</span>\" and you can move on. <span style=\"color: red;\">If there's a mistake, you'll see a red message explaining what went wrong, so you can fix it.</span>\n",
    "\n",
    "\n",
    "- **Before submitting your notebook for grading, ensure ALL exercises are complete (gotten All tests passed! for all of them)**. Save your work by clicking the 💾 icon at the top left, then click the <span style=\"color: blue; font-weight: bold;\">Submit assignment</span> button at the top right.\n",
    "\n",
    "<h2 style=\"color:green; font-weight:bold;\">ASKING FOR HELP IN THE COMMUNITY FORUM:</h2>\n",
    "\n",
    "- Sign up for our [Community Forum](https://www.coursera.org/learn/ai-python-for-beginners/supplement/No2f2/important-have-questions-issues-or-ideas-join-our-forum) if you haven't already. Once signed up, post your questions in the [AP4B category](https://community.deeplearning.ai/c/course-q-a/ai-python-for-beginners/463) with detailed information, such as the item's name, exercise number, or code cell. This helps others understand your issue better. Share screenshots if you can, but **don't post solution code publicly**; instead, share the error message you receive.\n",
    "\n",
    "With that out of the way, let's begin!"
   ]
  },
  {
   "cell_type": "markdown",
   "id": "288f2b15",
   "metadata": {},
   "source": [
    "## Table of Exercises\n",
    "\n",
    "- [Exercise 1: Encountering Data - Reading the News Article 🛰️](#1)\n",
    "- [Exercise 2: Decoding the Cosmos - Extracting Key Topics 🔭](#2)\n",
    "- [Exercise 3: The Poet's Palette - Organizing Your Topics 🎨](#3)\n",
    "- [Exercise 4: Cosmic Sonnets - Writing Your Space Poem 🖋️](#4)\n",
    "- [Exercise 5: Preserving the Verse - Saving Your Poem 💾](#5)"
   ]
  },
  {
   "cell_type": "markdown",
   "id": "96d2bc15",
   "metadata": {},
   "source": [
    "### Assignment Starts From Here\n",
    "\n",
    "Before starting the assignment, run the cell below. It will bring in some helpful code to check if your solutions are correct and provide feedback if you need to make changes.\n",
    "\n",
    "**IMPORTANT NOTE**:  Always run this cell when starting or resuming your assignment. **DO NOT include it in any other notebook cells.**\n",
    "     \n",
    "The below cell also loads the helper functions you'll be needing in this assignment. "
   ]
  },
  {
   "cell_type": "code",
   "execution_count": 1,
   "id": "9c5ada0a",
   "metadata": {
    "deletable": false,
    "editable": false,
    "tags": [
     "graded"
    ]
   },
   "outputs": [],
   "source": [
    "import test_your_code\n",
    "from helper_functions import get_llm_response, print_formatted_list, print_formatted_list_of_dict, download_file"
   ]
  },
  {
   "cell_type": "markdown",
   "id": "0af9fc74",
   "metadata": {},
   "source": [
    "<a name='1'></a>\n",
    "## Exercise 1: Encountering Data - Reading the News Article 🛰️\n",
    "\n",
    "First things first, you need to access the news article. It's like receiving a transmission from a faraway probe - you need to decode it first. \n",
    "\n",
    "**Your Task:**\n",
    "\n",
    "* Define a Python function called `read_article` that takes a `text_file` (string) as a parameter and reads the contents of the file. The function should return the contents of the file.\n",
    "\n",
    "<span style=\"color: blue;\">**Hint**</span>: You can refer to the classroom lesson *Turning code blocks into reusable functions* for this."
   ]
  },
  {
   "cell_type": "code",
   "execution_count": 4,
   "id": "4b38da36",
   "metadata": {
    "deletable": false,
    "name": "exercise_1",
    "tags": [
     "graded"
    ]
   },
   "outputs": [],
   "source": [
    "# Define a Python function \"read_article\" and pass \"text_file\" as parameter\n",
    "def read_article(text_file):\n",
    "    \n",
    "    ### START CODE HERE ###\n",
    "    \n",
    "    # \"Open\" \"text_file\" in \"read\" mode\n",
    "    f = open(text_file, \"r\") # Add your code here\n",
    "    \n",
    "    # Use \"f.read()\" to read the file into \"contents\"\n",
    "    contents = f.read() # Add your code here\n",
    "    \n",
    "    # Close the file \"f.close()\"\n",
    "    # Add your code here\n",
    "    f.close()\n",
    "    \n",
    "    # Return \"contents\"\n",
    "    return contents # Add your return variable here\n",
    "    \n",
    "    ### END CODE HERE ###"
   ]
  },
  {
   "cell_type": "code",
   "execution_count": 5,
   "id": "d48d45f9",
   "metadata": {
    "deletable": false,
    "editable": false
   },
   "outputs": [
    {
     "data": {
      "application/javascript": [
       "IPython.notebook.save_checkpoint();"
      ],
      "text/plain": [
       "<IPython.core.display.Javascript object>"
      ]
     },
     "metadata": {},
     "output_type": "display_data"
    },
    {
     "name": "stdout",
     "output_type": "stream",
     "text": [
      "\u001b[92m All tests passed!\n"
     ]
    }
   ],
   "source": [
    "# Test your code!\n",
    "test_your_code.exercise_1(read_article)"
   ]
  },
  {
   "cell_type": "markdown",
   "id": "09067d15",
   "metadata": {},
   "source": [
    "**Important Note:** If you see <span style=\"color: green;\">All tests passed!</span>, you can proceed to the next step. If there's an error message <span style=\"color: red;\">in red</span>, follow the instructions to fix it, then re-run the exercise and test cells until you get the <span style=\"color: green;\">All tests passed!</span> message. Repeat this process for all exercises in the assignment."
   ]
  },
  {
   "cell_type": "markdown",
   "id": "55be40ce",
   "metadata": {},
   "source": [
    "<a name='2'></a>\n",
    "## Exercise 2: Decoding the Cosmos - Extracting Key Topics 🔭\n",
    "\n",
    "Great work, your `read_article` function is working like a charm! Use it to receive your transmission:\n",
    "\n",
    "You'll be using the news article [5 years after its Pluto flyby, New Horizons spacecraft forges ahead](https://edition.cnn.com/2020/07/15/world/pluto-new-horizons-anniversary-scn-trnd/index.html), published on July 15, 2020, written by CNN. This article has been saved in a `news_article.txt` file in your workspace.\n",
    "\n",
    "Print the contents of this news article."
   ]
  },
  {
   "cell_type": "code",
   "execution_count": 6,
   "id": "d8961675",
   "metadata": {
    "deletable": false,
    "editable": false
   },
   "outputs": [
    {
     "name": "stdout",
     "output_type": "stream",
     "text": [
      "5 years after its Pluto flyby, New Horizons spacecraft forges ahead\n",
      "\n",
      "(CNN) — When NASA’s New Horizons spacecraft flew by Pluto five years ago this week, it captured detailed views of the mysterious icy dwarf planet on the edge of our solar system.\n",
      "\n",
      "Since then, data gathered about Pluto and its largest moon, Charon, have been used to gain insight about these planetary bodies 4 billion miles away from Earth.\n",
      "\n",
      "New Horizons launched in January 2006 and reached Pluto in July 2015, flying within 7,800 miles of Pluto’s surface.\n",
      "\n",
      "The stunning images shared by New Horizons showed both “Earth-like characteristics” on the surface as well as alien landscapes and geology not seen anywhere else in our solar system.\n",
      "\n",
      "And rather than being a quiet, frozen dwarf planet, data gathered by New Horizons revealed that Pluto is actually very active.\n",
      "\n",
      "New Horizons has entirely changed the way scientists understand Pluto and data from the mission is continuing to help researchers unravel secrets about the distant dwarf planet, as well as icy objects orbiting along the edge of our solar system.\n",
      "\n",
      "“New Horizons transformed Pluto from a fuzzy, telescopic dot into a living world with stunning diversity and surprising complexity,” said Hal Weaver in a statement.\n",
      "\n",
      "Weaver is the New Horizons project scientist at the Johns Hopkins Applied Physics Laboratory, which designed, built and operates the spacecraft.\n",
      "\n",
      "“The Pluto encounter was exploration at its finest, a real tribute to the vision and persistence of the New Horizons team,” he said.\n",
      "\n",
      "New Horizons' revelations\n",
      "\n",
      "Pluto is tiny but mighty, smaller than our moon and only about 1,400 miles wide, or half the width of the United States. Charon, the largest of Pluto’s five moons, is so similar in size to Pluto that they orbit each other like a double planet system.\n",
      "\n",
      "If you were to stand on the surface of Pluto, which has an average temperature of negative 387 degrees Fahrenheit, you would see blue skies, red snow and mountains that tower like the Rockies, according to NASA. New Horizons also revealed the strange mechanics of Pluto’s “beating” heart-shaped glacier, similar in size to Texas, that explain the planet’s exaggerated tilt and even helps drive the wind on Pluto.\n",
      "\n",
      "The heart-shaped feature is known as Tombaugh Regio, named in honor of astronomer Clyde Tombaugh, who discovered Pluto in 1930.\n",
      "\n",
      "Much of the dwarf planet’s nitrogen ice content can be found in this region, concentrated in a deep basin called Sputnik Planitia because the elevation is 1.9 miles lower than the surface. The ice sheet spans 620 miles. The basin makes up the “left lobe” of the heart, while the right side is home to nitrogen glaciers and highlands.\n",
      "\n",
      "In daytime, Pluto’s frozen nitrogen heart warms enough to become vapor. By night, it’s condensing and turning to ice again. The researchers call this Pluto’s “heartbeat,” which controls atmospheric circulation of nitrogen winds around the planet.\n",
      "\n",
      "Some scientists also believe there is a liquid ocean beneath Pluto’s ice shell that is estimated to be 249 miles thick. But they thought it formed later in Pluto’s history as radioactive elements were heated near the dwarf planet’s rocky core and decayed. This heat could have been enough to melt ice and form a subsurface ocean.\n",
      "\n",
      "But New Horizons data suggested otherwise. New research based on that data has suggested that Pluto actually started out in a hot formation scenario. In that scenario, the liquid ocean would slowly freeze over time, although not completely, and cause the extensional faults seen by New Horizons in Pluto’s icy crust.\n",
      "\n",
      "This long, slow freeze of the subsurface ocean could also explain the mix of features on Pluto’s surface because expansion would occur throughout the history of the dwarf planet.\n",
      "\n",
      "New Horizons’ images of Pluto and Charon also revealed pock-marked surfaces. They’re covered in large craters.\n",
      "\n",
      "The craters reveal that small Kuiper Belt objects less than 100 kilometers in size probably created them when they collided with Pluto and Charon. And because of what scientists know about impact crater formation, the fact that no craters were found smaller than 13 kilometers in diameter means there are fewer Kuiper Belt objects smaller than 2 kilometers than astronomers had predicted.\n",
      "\n",
      "This provides more support for the idea that Kuiper Belt objects are not pieces of space rock formed from collisions but actual intact “leftovers” from when the solar system was forming billions of years ago.\n",
      "\n",
      "Pluto also has other surprising features, such as dunes. But these aren’t like sand dunes on Earth; Pluto’s dunes are made from solid methane ice grains and sculpted by the wind. Within our solar system, dunes are rarer than you might think. They exist only on Earth, Mars, Venus, Saturn’s moon Titan and Comet 67P.\n",
      "\n",
      "These dunes are largely undisturbed on Pluto’s icy crust, which suggested that they were formed within the past 500,000 years – or even more recently. Pluto presents a bit of an age conundrum this way.\n",
      "\n",
      "The dwarf planet has polygonal shapes and features that indicate the surface is geologically active and young. The surface itself is only about 500,000 years old, although the dwarf planet itself is about 4.5 billion years old. This activity is most likely caused by a thermal, convective overturning of the ice.\n",
      "\n",
      "These are only a few of the discoveries made using data provided by New Horizons and even more will be made in the future as scientists work through the wealth of information provided by the flyby.\n",
      "\n",
      "“It’s clear to me that the solar system saved the best for last!” said Alan Stern, New Horizons principal investigator from the Southwest Research Institute, Boulder, Colorado, in a statement. “We could not have explored a more fascinating or scientifically important planet at the edge of our solar system. The New Horizons team worked for 15 years to plan and execute this flyby and Pluto paid us back in spades!”\n",
      "\n",
      "What's next\n",
      "\n",
      "In January 2019, New Horizons conducted the first flyby of a distant Kuiper Belt Object, which has since been named Arrokoth, allowing researchers to study these remnants of solar system formation in detail.\n",
      "\n",
      "New Horizons continues to explore the outer reaches of our solar system, sharing its unique view of the stars billions of miles away from Earth. Meanwhile, it’s receiving some scouting help from an Earth-based telescope.\n",
      "\n",
      "The Subaru Telescope, located on Mauna Kea in Hawaii, is operated by the National Astronomical Observatory of Japan. It’s helping to search for potential target candidates for New Horizons to observe next.\n",
      "\n",
      "“We are using the Subaru Telescope because it is the best in the world for our search purposes,” Stern said. “This is due to its unique combination of telescope size – one of the very largest anywhere, and Hyper Suprime-Cam’s wide field of view – which can discover many Kuiper Belt objects at once.”\n",
      "\n",
      "Currently, Subaru is observing an area in the Sagittarius constellation, where New Horizons is located. The Subaru observation team expects to find hundreds of new Kuiper Belt Objects, with 50 that should be at the right distance from New Horizons to be observed.\n",
      "\n",
      "They may find another one that is perfectly situated for a flyby, such as Arrokoth.\n"
     ]
    }
   ],
   "source": [
    "news_article = read_article(\"news_article.txt\")\n",
    "print(news_article)"
   ]
  },
  {
   "cell_type": "markdown",
   "id": "5096cb79",
   "metadata": {},
   "source": [
    "That is a lengthy article! To decipher its secrets without reading every word, employ a powerful tool: a Large Language Model (LLM). Think of it as your trusty AI assistant, capable of understanding and summarizing vast amounts of information. 🧠\n",
    "\n",
    "You'll ask the LLM to analyze the news article and extract three key topics discussed."
   ]
  },
  {
   "cell_type": "code",
   "execution_count": 7,
   "id": "914ae915",
   "metadata": {
    "deletable": false,
    "editable": false
   },
   "outputs": [],
   "source": [
    "prompt = f\"\"\"\n",
    "Read the contents of file {news_article}, and extract the key topics discussed in it. Provide exactly 3 key topics.\n",
    "Each topic should not be more than 8 words.\n",
    "\n",
    "Provide each topic in a new line.\n",
    "\n",
    "Output Format:\n",
    "topic_1\n",
    "\n",
    "topic_2\n",
    "\n",
    "topic_3\n",
    "\n",
    "\"\"\"\n",
    "\n",
    "response = get_llm_response(prompt)"
   ]
  },
  {
   "cell_type": "code",
   "execution_count": 8,
   "id": "2f4ecfce",
   "metadata": {
    "deletable": false,
    "editable": false
   },
   "outputs": [
    {
     "name": "stdout",
     "output_type": "stream",
     "text": [
      "Pluto's geological activity and features\n",
      "\n",
      "New Horizons' discoveries and implications\n",
      "\n",
      "Future observations of Kuiper Belt Objects\n"
     ]
    }
   ],
   "source": [
    "# Print the response\n",
    "print(response)"
   ]
  },
  {
   "cell_type": "markdown",
   "id": "af6039a4",
   "metadata": {},
   "source": [
    "**Your Task:**\n",
    "\n",
    "Turn these topics into a single Python list.\n",
    "* Copy/paste the topics generated from `response` above into the `key_topics` list below.\n",
    "\n",
    "Be sure that:\n",
    "* Each topic is stored as a \"string\"\n",
    "* There are no duplicate topics in your list\n",
    "* Don't forget to use a comma `,` after each entry in the list. For example:\n",
    "\n",
    "```python\n",
    "\tkey_topics = [\n",
    "\t\t\"Topic 1\",\n",
    "\t\t\"Topic 2\",\n",
    "\t\t\"Topic 3\"\n",
    "\t]\n",
    "```"
   ]
  },
  {
   "cell_type": "code",
   "execution_count": 9,
   "id": "1849c026",
   "metadata": {
    "deletable": false,
    "name": "exercise_2",
    "tags": [
     "graded"
    ]
   },
   "outputs": [
    {
     "name": "stdout",
     "output_type": "stream",
     "text": [
      "[\n",
      "    \"Pluto's geological activity and features\",\n",
      "    \"New Horizons' discoveries and implications\",\n",
      "    \"Future observations of Kuiper Belt Objects\"\n",
      "]\n"
     ]
    }
   ],
   "source": [
    "key_topics = [\n",
    "    \n",
    "    ### START CODE HERE ###\n",
    "    \n",
    "    \"Pluto's geological activity and features\",\n",
    "    \"New Horizons' discoveries and implications\",\n",
    "    \"Future observations of Kuiper Belt Objects\"\n",
    "    ### END CODE HERE ###\n",
    "\n",
    "]\n",
    "\n",
    "print_formatted_list(key_topics)"
   ]
  },
  {
   "cell_type": "markdown",
   "id": "a4d47a9d",
   "metadata": {},
   "source": [
    "#### Expected Output:\n",
    "```\n",
    "[\n",
    "    \"Unique Topic 1 as a string\",\n",
    "    \"Unique Topic 2 as a string\",\n",
    "    \"Unique Topic 3 as a string\"\n",
    "]\n",
    "```"
   ]
  },
  {
   "cell_type": "code",
   "execution_count": 10,
   "id": "ee125319",
   "metadata": {
    "deletable": false,
    "editable": false
   },
   "outputs": [
    {
     "data": {
      "application/javascript": [
       "IPython.notebook.save_checkpoint();"
      ],
      "text/plain": [
       "<IPython.core.display.Javascript object>"
      ]
     },
     "metadata": {},
     "output_type": "display_data"
    },
    {
     "name": "stdout",
     "output_type": "stream",
     "text": [
      "\u001b[92m All tests passed!\n"
     ]
    }
   ],
   "source": [
    "# Test your code!    \n",
    "test_your_code.exercise_2(key_topics)    "
   ]
  },
  {
   "cell_type": "markdown",
   "id": "cb80a2f8",
   "metadata": {},
   "source": [
    "<a name='3'></a>\n",
    "## Exercise 3: The Poet's Palette - Organizing Your Topics 🎨 \n",
    "\n",
    "Excellent work, your `key_topics` list is ready for action! Now, imagine you want to write a poem inspired by these topics, but you're not particularly fond of one or more of them.\n",
    "\n",
    "To give you more control over your creative process, you'll be crafting a list of dictionaries, with each dictionary representing a topic and a special \"switch\" called `to_use`. This \"switch\" will tell the LLM whether or not to include a particular topic in the poem. It's like having a poet's palette, carefully selecting the colors and themes you want to use in your masterpiece! 🎨\n",
    "\n",
    "**Your Task:**\n",
    "\n",
    "Create a list of dictionaries `topics_to_use` with each topic from the list `key_topics` and a switch `to_use`. \n",
    "\n",
    "In each dictionary:\n",
    "* Use the list `key_topics` to get the topic and add them into the new dictionary.\n",
    "* Add a boolean value `to_use` (True would mean to use it in the Poem, False would mean not to use). Feel free to put True/False as you desire.\n",
    "\n",
    "Be sure that:\n",
    "* There are no duplicate topics in your list\n",
    "* Don't forget to use a comma `,` after each entry in the dictionary and after each dictionary. For example:\n",
    "```python\n",
    "\t{\n",
    "\t\t\"Topic 1\": your topic,\n",
    "\t\t\n",
    "\t\t\"to_use\": a boolean value\n",
    "\t},\n",
    "\t{\n",
    "\t\t\"Topic 2\": your topic,\n",
    "\t\t\n",
    "\t\t\"to_use\": a boolean value\n",
    "\t}\n",
    "```"
   ]
  },
  {
   "cell_type": "code",
   "execution_count": 11,
   "id": "f1134a06",
   "metadata": {
    "deletable": false,
    "name": "exercise_3",
    "tags": [
     "graded"
    ]
   },
   "outputs": [
    {
     "name": "stdout",
     "output_type": "stream",
     "text": [
      "[\n",
      "    {\n",
      "        \"Topic 1\": \"Pluto's geological activity and features\",\n",
      "        \"to_use\": True,\n",
      "    },\n",
      "    {\n",
      "        \"Topic 2\": \"New Horizons' discoveries and implications\",\n",
      "        \"to_use\": True,\n",
      "    },\n",
      "    {\n",
      "        \"Topic 3\": \"Future observations of Kuiper Belt Objects\",\n",
      "        \"to_use\": False,\n",
      "    }\n",
      "]\n"
     ]
    }
   ],
   "source": [
    "topics_to_use = [\n",
    "    \n",
    "    ### START CODE HERE ###\n",
    "    \n",
    "   \n",
    "    {\n",
    "        # Use your the \"first\" entry from \"key_topics\" as \"Topic 1\"\n",
    "        # Hint: Remember, in Python, counting starts from zero (0)\n",
    "        \"Topic 1\": key_topics[0], # First element from the list \"key_topics\" goes here,\n",
    "        \n",
    "        # Use a boolean value (True or False) for \"to_use\"\n",
    "        \"to_use\": True # Add boolean value here\n",
    "    },\n",
    "    {\n",
    "        # Use your the \"second\" entry from \"key_topics\" as \"Topic 2\"\n",
    "        \"Topic 2\": key_topics[1], # Second element from the list \"key_topics\" goes here,\n",
    "        \n",
    "        # Use a boolean value (True or False) for \"to_use\"\n",
    "        \"to_use\": True # Add boolean value here\n",
    "    },\n",
    "    {\n",
    "        # Use your the \"third\" entry from \"key_topics\" as \"Topic 3\"\n",
    "        \"Topic 3\": key_topics[2], # Third element from the list \"key_topics\" goes here,\n",
    "        \n",
    "        # Use a boolean value (True or False) for \"to_use\"\n",
    "        \"to_use\": False # Add boolean value here\n",
    "    }\n",
    "    \n",
    "    ### END CODE HERE ###\n",
    "    \n",
    "]\n",
    "    \n",
    "print_formatted_list_of_dict(topics_to_use)"
   ]
  },
  {
   "cell_type": "markdown",
   "id": "5f5ea878",
   "metadata": {},
   "source": [
    "#### Expected Output:\n",
    "```\n",
    "[\n",
    "    {\n",
    "        \"Topic 1\": \"Unique Topic 1 as a string\",\n",
    "        \"to_use\": A boolean value,\n",
    "    },\n",
    "    {\n",
    "        \"Topic 2\": \"Unique Topic 2 as a string\",\n",
    "        \"to_use\": A boolean value,\n",
    "    },\n",
    "    {\n",
    "        \"Topic 3\": \"Unique Topic 3 as a string\",\n",
    "        \"to_use\": A boolean value,\n",
    "    }\n",
    "]\n",
    "```"
   ]
  },
  {
   "cell_type": "code",
   "execution_count": 12,
   "id": "385b80c8",
   "metadata": {
    "deletable": false,
    "editable": false
   },
   "outputs": [
    {
     "data": {
      "application/javascript": [
       "IPython.notebook.save_checkpoint();"
      ],
      "text/plain": [
       "<IPython.core.display.Javascript object>"
      ]
     },
     "metadata": {},
     "output_type": "display_data"
    },
    {
     "name": "stdout",
     "output_type": "stream",
     "text": [
      "\u001b[92m All tests passed!\n"
     ]
    }
   ],
   "source": [
    "# Test your code!\n",
    "test_your_code.exercise_3(topics_to_use, key_topics)"
   ]
  },
  {
   "cell_type": "markdown",
   "id": "4d4b81c5",
   "metadata": {},
   "source": [
    "<a name='4'></a>\n",
    "## Exercise 4: Cosmic Sonnets - Writing Your Space Poem 🖋️\n",
    "\n",
    "With your `topics_to_use` list ready, it's time to enlist the LLM once again, this time for a more creative task: crafting your space poem! 🌠\n",
    "\n",
    "**Your Task:**\n",
    "\n",
    "Write a `prompt` that asks the LLM to generate a `poem`. The `poem` should be of exactly `4 (four)` `lines (line)`. Your `prompt` should also include the `topics_to_use` list.\n",
    "\n",
    "    You have the flexibility to structure your prompt and wording as you see fit. The key is to include all three pieces of information (`topics_to_use` list, mention of writing a \"poem\" and using only \"4 (four) lines (line)\") naturally within the `prompt`'s instructions. \n",
    "\n",
    "    For example, your prompt could look something like this: \n",
    "    \"Using only the topics from the list <topics_to_use>, write a 4-line poem.\""
   ]
  },
  {
   "cell_type": "code",
   "execution_count": 13,
   "id": "01aa0a13",
   "metadata": {
    "deletable": false,
    "name": "exercise_4",
    "tags": [
     "graded"
    ]
   },
   "outputs": [
    {
     "name": "stdout",
     "output_type": "stream",
     "text": [
      "\n",
      "# Add your code here\n",
      "Please generate a poem for the topics mentioned below. \n",
      "The poem should be 4 lines and only for the topic with to_use flag set to True.\n",
      "\n",
      "Topics: [{'Topic 1': \"Pluto's geological activity and features\", 'to_use': True}, {'Topic 2': \"New Horizons' discoveries and implications\", 'to_use': True}, {'Topic 3': 'Future observations of Kuiper Belt Objects', 'to_use': False}]\n",
      "\n",
      "\n"
     ]
    }
   ],
   "source": [
    "### START CODE HERE ###\n",
    "\n",
    "prompt = f\"\"\"\n",
    "# Add your code here\n",
    "Please generate a poem for the topics mentioned below. \n",
    "The poem should be 4 lines and only for the topics with to_use flag set to True.\n",
    "\n",
    "Topics: {topics_to_use}\n",
    "\n",
    "\"\"\"\n",
    "\n",
    "### END CODE HERE ###\n",
    "\n",
    "print(prompt)"
   ]
  },
  {
   "cell_type": "markdown",
   "id": "8a66e63d",
   "metadata": {},
   "source": [
    "#### Expected Output:\n",
    "```\n",
    "Your prompt containing the following details:\n",
    "- `topics_to_use` list\n",
    "- Instructions of writing a \"poem\"\n",
    "- Using only \"4 (four) lines (line)\"\n",
    "```"
   ]
  },
  {
   "cell_type": "markdown",
   "id": "aec21a52",
   "metadata": {},
   "source": [
    "**Note:** You will fail the below test if your prompt excludes any one of the above mentioned details."
   ]
  },
  {
   "cell_type": "code",
   "execution_count": 14,
   "id": "8d906b86",
   "metadata": {
    "deletable": false,
    "editable": false
   },
   "outputs": [
    {
     "data": {
      "application/javascript": [
       "IPython.notebook.save_checkpoint();"
      ],
      "text/plain": [
       "<IPython.core.display.Javascript object>"
      ]
     },
     "metadata": {},
     "output_type": "display_data"
    },
    {
     "name": "stdout",
     "output_type": "stream",
     "text": [
      "\u001b[92m All tests passed!\n"
     ]
    }
   ],
   "source": [
    "# Test your code!    \n",
    "test_your_code.exercise_4(prompt, topics_to_use)    "
   ]
  },
  {
   "cell_type": "code",
   "execution_count": 15,
   "id": "1272e475",
   "metadata": {
    "deletable": false,
    "editable": false
   },
   "outputs": [],
   "source": [
    "poem = get_llm_response(prompt)"
   ]
  },
  {
   "cell_type": "code",
   "execution_count": 16,
   "id": "d5ecfa35",
   "metadata": {
    "deletable": false,
    "editable": false
   },
   "outputs": [
    {
     "name": "stdout",
     "output_type": "stream",
     "text": [
      "In Pluto's heart, where ice does flow,  \n",
      "Geological wonders beneath a frozen glow,  \n",
      "New Horizons soared through the cosmic night,  \n",
      "Revealing secrets in the pale starlight.\n"
     ]
    }
   ],
   "source": [
    "# Print your poem\n",
    "print(poem)"
   ]
  },
  {
   "cell_type": "markdown",
   "id": "fc435ce3",
   "metadata": {},
   "source": [
    "<a name='5'></a>\n",
    "## Exercise 5: Preserving the Verse - Saving Your Poem 💾 \n",
    "\n",
    "Your poem is a masterpiece! But like a fading transmission, it won't last forever unless you store it properly.\n",
    "\n",
    "**Your Task:**\n",
    "\n",
    "* Create a Python function called `save_to_file` that uses the parameter `contents_to_save` (a string) and saves it in a file called `poem.txt`.\n",
    "\n",
    "<span style=\"color: blue;\">**Hint**</span>: You can refer to the classroom lesson *Extracting restaurant information from journal entries* for this."
   ]
  },
  {
   "cell_type": "code",
   "execution_count": 17,
   "id": "146ba041",
   "metadata": {
    "deletable": false,
    "name": "exercise_5",
    "tags": [
     "graded"
    ]
   },
   "outputs": [],
   "source": [
    "# Define a Python function \"save_to_file\" and pass \"contents_to_save\" as parameter\n",
    "def save_to_file(contents_to_save):\n",
    "    \n",
    "    ### START CODE HERE ###\n",
    "    \n",
    "    # Using \"Open\", open or create a text file `poem.txt` in \"write\" mode\n",
    "    f = open(\"poem.txt\", 'w')\n",
    "    \n",
    "    ### END CODE HERE ###\n",
    "    \n",
    "    # Write \"contents_to_save\" in the file `poem.txt`\n",
    "    f.write(contents_to_save)\n",
    "    \n",
    "    # Close the file\n",
    "    f.close()"
   ]
  },
  {
   "cell_type": "code",
   "execution_count": 18,
   "id": "0bbf26ed",
   "metadata": {
    "deletable": false,
    "editable": false
   },
   "outputs": [
    {
     "data": {
      "application/javascript": [
       "IPython.notebook.save_checkpoint();"
      ],
      "text/plain": [
       "<IPython.core.display.Javascript object>"
      ]
     },
     "metadata": {},
     "output_type": "display_data"
    },
    {
     "name": "stdout",
     "output_type": "stream",
     "text": [
      "\u001b[92m All tests passed!\n"
     ]
    }
   ],
   "source": [
    "# Test your code!    \n",
    "test_your_code.exercise_5(save_to_file) "
   ]
  },
  {
   "cell_type": "markdown",
   "id": "6891ac86",
   "metadata": {},
   "source": [
    "### Submission Note:\n",
    "If you have passed all the tests up to this point, you can submit your assignment for grading.\n",
    "\n",
    "**But before you submit your assignment, re-run the assignment just in case there are any unexpected errors present in the notebook once it goes for grading.** To do so, follow these steps:\n",
    "\n",
    "1. Restart the `Kernel` and select the `Restart & Clear Output` option. You can do this by clicking on the `Kernel` menu at the top of the notebook.\n",
    "![Kernel Restart Image](kernel_restart.png)\n",
    "2. Once the kernel restarts and all outputs are clear, run the cells from top to bottom again up to this point.\n",
    "\n",
    "If you have followed these steps and still pass all of the tests, you can submit your assignment for grading. If you encounter any errors, please fix them before submitting.\n",
    "\n",
    "To submit your assignment for grading, save your work by clicking the 💾 icon at the top left, then click the <span style=\"color: blue; font-weight: bold;\">Submit assignment</span> button at the top right. Good luck!\n",
    "\n",
    "Everything below this is OPTIONAL and will not affect your grading in anyway."
   ]
  },
  {
   "cell_type": "markdown",
   "id": "30080fa8",
   "metadata": {},
   "source": [
    "Save your poem in the file!"
   ]
  },
  {
   "cell_type": "code",
   "execution_count": 19,
   "id": "615da860",
   "metadata": {
    "deletable": false,
    "editable": false
   },
   "outputs": [],
   "source": [
    "save_to_file(poem)"
   ]
  },
  {
   "cell_type": "markdown",
   "id": "bb0c6d49",
   "metadata": {},
   "source": [
    "You can use the following button to download the file you just wrote above.\n",
    "\n",
    "* Make sure to provide the right file name: `poem.txt` when asked!"
   ]
  },
  {
   "cell_type": "code",
   "execution_count": 20,
   "id": "2268b1c8",
   "metadata": {
    "deletable": false,
    "editable": false
   },
   "outputs": [
    {
     "data": {
      "application/vnd.jupyter.widget-view+json": {
       "model_id": "cbad2dd1293b46f3a7f082fb423b17cb",
       "version_major": 2,
       "version_minor": 0
      },
      "text/plain": [
       "HBox(children=(Text(value='', description='File:', placeholder='Enter file name'), Button(description='Downloa…"
      ]
     },
     "metadata": {},
     "output_type": "display_data"
    },
    {
     "data": {
      "application/vnd.jupyter.widget-view+json": {
       "model_id": "577b1005a21848b3bc0231c9b2a350e4",
       "version_major": 2,
       "version_minor": 0
      },
      "text/plain": [
       "Output()"
      ]
     },
     "metadata": {},
     "output_type": "display_data"
    }
   ],
   "source": [
    "download_file()"
   ]
  },
  {
   "cell_type": "markdown",
   "id": "0ab954f5",
   "metadata": {},
   "source": [
    "## Mission Accomplished! 🎉\n",
    "\n",
    "Congratulations on completing this stellar coding adventure! You've successfully used Python to explore a news article, extract key topics, and even generate a space-themed poem! As you continue your coding journey, remember that the possibilities are as boundless as the universe itself. 🚀 Keep exploring, keep creating, and never stop reaching for the stars! ✨"
   ]
  }
 ],
 "metadata": {
  "grader_version": "1",
  "kernelspec": {
   "display_name": "Python 3 (ipykernel)",
   "language": "python",
   "name": "python3"
  },
  "language_info": {
   "codemirror_mode": {
    "name": "ipython",
    "version": 3
   },
   "file_extension": ".py",
   "mimetype": "text/x-python",
   "name": "python",
   "nbconvert_exporter": "python",
   "pygments_lexer": "ipython3",
   "version": "3.9.13"
  }
 },
 "nbformat": 4,
 "nbformat_minor": 5
}
