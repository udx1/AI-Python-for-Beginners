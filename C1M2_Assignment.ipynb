{
 "cells": [
  {
   "cell_type": "markdown",
   "id": "954b782c",
   "metadata": {},
   "source": [
    "# Programming Assignment: Book Tracker 📚\n",
    "\n",
    "Welcome to the programing assignment of the second module of this course! \n",
    "\n",
    "Get ready to put your Python skills to the test. In this assignment, you'll be a librarian, managing the book records. Let's get started! 🚀"
   ]
  },
  {
   "cell_type": "markdown",
   "id": "ca042bb7",
   "metadata": {},
   "source": [
    "## Before you begin 🚦"
   ]
  },
  {
   "cell_type": "markdown",
   "id": "ef2d8c4b",
   "metadata": {},
   "source": [
    "If you **need a fresh copy of the assignment (reset)**, follow the [instructions](https://www.coursera.org/learn/ai-python-for-beginners/supplement/uW6bd/optional-downloading-your-notebook-downloading-your-workspace-and-refreshing) under the heading, \"`Refreshing your Workspace`\".\n",
    "\n",
    "<h2 style=\"color:green; font-weight:bold;\">INSTRUCTIONS FOR ATTEMPTING THE ASSIGNMENT:</h2>\n",
    "\n",
    "- Before starting each exercise, read the instructions carefully. Look for the part called **Your Task**, it tells you exactly what you need to code and gives you all the details you need.\n",
    "\n",
    "\n",
    "- In each exercise cell, look for comments `### START CODE HERE ###` and `### END CODE HERE ###`. These show you where to write your code. **Do not add or change any code that is outside these comments, or add any extra code cells in the notebook.**\n",
    "\n",
    "\n",
    "- After you finish coding an exercise, there will be a test section that checks your work using a function called `test_your_code`. If everything is correct, you'll see a message saying \"<span style=\"color: green;\">All tests passed!</span>\" and you can move on. <span style=\"color: red;\">If there's a mistake, you'll see a red message explaining what went wrong, so you can fix it.</span>\n",
    "\n",
    "\n",
    "- **Before submitting your notebook for grading, ensure ALL exercises are complete (gotten All tests passed! for all of them)**. Save your work by clicking the 💾 icon at the top left, then click the <span style=\"color: blue; font-weight: bold;\">Submit assignment</span> button at the top right.\n",
    "\n",
    "<h2 style=\"color:green; font-weight:bold;\">ASKING FOR HELP IN THE COMMUNITY FORUM:</h2>\n",
    "\n",
    "- Sign up for our [Community Forum](https://www.coursera.org/learn/ai-python-for-beginners/supplement/No2f2/important-have-questions-issues-or-ideas-join-our-forum) if you haven't already. Once signed up, post your questions in the [AP4B category](https://community.deeplearning.ai/c/course-q-a/ai-python-for-beginners/463) with detailed information, such as the item's name, exercise number, or code cell. This helps others understand your issue better. Share screenshots if you can, but **don't post solution code publicly**; instead, share the error message you receive.\n",
    "\n",
    "With that out of the way, let's begin!"
   ]
  },
  {
   "cell_type": "markdown",
   "id": "f8999e8b",
   "metadata": {},
   "source": [
    "## Table of Exercises\n",
    "\n",
    "- [Exercise 1: The Bookworm's Inventory 📖](#1)\n",
    "- [Exercise 2: Is It On the Shelf? 🤔](#2)\n",
    "- [Exercise 3: On Hold or Overdue? ⏳](#3)\n",
    "- [Exercise 4: Tracking Down the Borrower 🔎](#4)\n",
    "- [Exercise 5: The LLM to the Rescue! 🤖](#5)"
   ]
  },
  {
   "cell_type": "markdown",
   "id": "ed8ea241",
   "metadata": {},
   "source": [
    "### Assignment Starts From Here\n",
    "\n",
    "Before starting the assignment, run the cell below. It will bring in some helpful code to check if your solutions are correct and provide feedback if you need to make changes. You'll learn more about how this works as you progress through the course.\n",
    "\n",
    "**IMPORTANT NOTE**:  Always run this cell when starting or resuming your assignment. **DO NOT include it in any other notebook cells.**"
   ]
  },
  {
   "cell_type": "code",
   "execution_count": 1,
   "id": "aba1e296",
   "metadata": {
    "deletable": false,
    "editable": false
   },
   "outputs": [],
   "source": [
    "import test_your_code"
   ]
  },
  {
   "cell_type": "markdown",
   "id": "cd718fa5",
   "metadata": {},
   "source": [
    "<a name='1'></a>\n",
    "## Exercise 1: The Bookworm's Inventory 📖\n",
    "\n",
    "Imagine you're a librarian, and a request just came in for the classic novel \"To Kill a Mockingbird\". 🐦  Before you can tell the eager reader if it's available, you need to check your records.\n",
    "\n",
    "You first need to represent a book's information using a Python dictionary. This dictionary will store the following details about the book:\n",
    "\n",
    "- `title` (string): The title of the book.\n",
    "- `author` (string): The author of the book.\n",
    "- `on_shelf` (boolean): Whether the book is currently on the shelf (`True`) or checked out (`False`).\n",
    "- `borrower` (string): The name of the person who has borrowed the book (if it's checked out).\n",
    "- `overdue` (boolean): Whether the book is overdue (`True`) or not (`False`).\n",
    "- `on_hold` (boolean): Whether the book is on hold for another patron (`True`) or not (`False`).\n",
    "\n",
    "\n",
    "**Your Task:** Initialize the dictionary `book` with the following key/value pairs:\n",
    "\n",
    "- `title`: To Kill a Mockingbird\n",
    "- `author`: Harper Lee\n",
    "- `on_shelf`: False\n",
    "- `borrower`: Arthur Dent\n",
    "- `overdue`: True\n",
    "- `on_hold`: False"
   ]
  },
  {
   "cell_type": "code",
   "execution_count": 3,
   "id": "d4e586c4",
   "metadata": {
    "deletable": false,
    "name": "exercise_1",
    "tags": [
     "graded"
    ]
   },
   "outputs": [],
   "source": [
    "### START CODE HERE ###\n",
    "\n",
    "# Create the dictionary, \"book\", with key/value pairs as mentioned above\n",
    "# Please be sure to use the same upper/lower case spellings structure\n",
    "# Add your code here\n",
    "book = {\n",
    "    \"title\"    : \"To Kill a Mockingbird\",\n",
    "    \"author\"   : \"Harper Lee\",\n",
    "    \"on_shelf\" : False,\n",
    "    \"borrower\" : \"Arthur Dent\",\n",
    "    \"overdue\"  : True,\n",
    "    \"on_hold\"  : False\n",
    "}\n",
    "\n",
    "### END CODE HERE ###"
   ]
  },
  {
   "cell_type": "code",
   "execution_count": 4,
   "id": "f339f50b",
   "metadata": {
    "deletable": false,
    "editable": false
   },
   "outputs": [
    {
     "data": {
      "application/javascript": [
       "IPython.notebook.save_checkpoint();"
      ],
      "text/plain": [
       "<IPython.core.display.Javascript object>"
      ]
     },
     "metadata": {},
     "output_type": "display_data"
    },
    {
     "name": "stdout",
     "output_type": "stream",
     "text": [
      "\u001b[92m All tests passed!\n"
     ]
    }
   ],
   "source": [
    "# Test your code!\n",
    "test_your_code.exercise_1(book)"
   ]
  },
  {
   "cell_type": "markdown",
   "id": "f42ae14f",
   "metadata": {},
   "source": [
    "**Important Note:** If you see <span style=\"color: green;\">All tests passed!</span>, you can proceed to the next step. If there's an error message <span style=\"color: red;\">in red</span>, follow the instructions to fix it, then re-run the exercise and test cells until you get the <span style=\"color: green;\">All tests passed!</span> message. Repeat this process for all exercises in the assignment."
   ]
  },
  {
   "cell_type": "markdown",
   "id": "248e6a2e",
   "metadata": {},
   "source": [
    "<a name='2'></a>\n",
    "## Exercise 2: Is It On the Shelf? 🤔\n",
    "\n",
    "The moment of truth has arrived!  The eager reader is waiting to hear if \"To Kill a Mockingbird\" is available.  You need to check the `book` dictionary to see if it's available for checkout. \n",
    "\n",
    "**Your Task:**\n",
    "\n",
    "Write an `if/else` statement that determines whether the book is available to borrow. \n",
    "\n",
    "- **If** the book is `on_shelf` (meaning `on_shelf` is `True`) **and** it's **not** `on_hold` (meaning `on_hold` is `False`), print: `\"Book is available to be borrowed\"`. \n",
    "- **Else**, print: `\"Book is not available to be borrowed\"`.\n",
    "- Use the same `book` variable you defined in Exercise 1.\n",
    "\n",
    "Notice that these two messages are static (you don't need to change them according to the value of a certain variable). **Because of this use regular strings and NOT f-strings.** It is a good practice to only use f-strings when necessary."
   ]
  },
  {
   "cell_type": "code",
   "execution_count": 5,
   "id": "4a334b64",
   "metadata": {
    "deletable": false,
    "name": "exercise_2",
    "tags": [
     "graded"
    ]
   },
   "outputs": [
    {
     "name": "stdout",
     "output_type": "stream",
     "text": [
      "Book is not available to be borrowed\n"
     ]
    }
   ],
   "source": [
    "### START CODE HERE ###\n",
    "\n",
    "# Create an if/else statement\n",
    "# Check if \"book['on_shelf']\" equals \"True\" and \"book['on_hold']\" equals \"False\" (do this in the same line)\n",
    "# Add your if statement here\n",
    "\n",
    "if book['on_shelf'] == True and book['on_hold'] == False:\n",
    "   \n",
    "    # Print \"Book is available to be borrowed\"\n",
    "    # Add your print here\n",
    "    print(\"Book is available to be borrowed\")\n",
    "\n",
    "# Add your else statement here\n",
    "else:\n",
    "        \n",
    "    # Print \"Book is not available to be borrowed\"\n",
    "    # Add your print here\n",
    "    print(\"Book is not available to be borrowed\")\n",
    "\n",
    "### END CODE HERE ###"
   ]
  },
  {
   "cell_type": "markdown",
   "id": "f480ccdf",
   "metadata": {},
   "source": [
    "#### Expected Output:\n",
    "\n",
    "```\n",
    "Book is not available to be borrowed\n",
    "```"
   ]
  },
  {
   "cell_type": "code",
   "execution_count": 6,
   "id": "97b11376",
   "metadata": {
    "deletable": false,
    "editable": false
   },
   "outputs": [
    {
     "data": {
      "application/javascript": [
       "IPython.notebook.save_checkpoint();"
      ],
      "text/plain": [
       "<IPython.core.display.Javascript object>"
      ]
     },
     "metadata": {},
     "output_type": "display_data"
    },
    {
     "name": "stdout",
     "output_type": "stream",
     "text": [
      "\u001b[92m All tests passed!\n"
     ]
    }
   ],
   "source": [
    "# Test your code!\n",
    "test_your_code.exercise_2()"
   ]
  },
  {
   "cell_type": "markdown",
   "id": "ec0f6b3c",
   "metadata": {},
   "source": [
    "<a name='3'></a>\n",
    "## Exercise 3: On Hold or Overdue? ⏳\n",
    "\n",
    "Sadly, it turns out that \"To Kill a Mockingbird\" is currently checked out. 😩  However, the interested reader would like to be next in line!  You need to put the book on hold for them, but first, you want to check if it's overdue.\n",
    "\n",
    "**Your Task:**\n",
    "\n",
    "Write an `if/else` statement that does the following:\n",
    "\n",
    "- **If** the book is `overdue` (meaning `overdue` is `True`), print: `\"Book is overdue - Contact <Borrower's name> to return it\"` (make sure to replace `<Borrower's name>` with the actual borrower's name from the dictionary `book`). **You should use an f-string to insert the borrower's name**. \n",
    "- **Else**:\n",
    "    - Set the `on_hold` status of the book to `True` because you're now placing it on hold for the next reader.\n",
    "    - Print: `\"Book has been put on hold\"`.\n",
    "- Use the same `book` variable you defined in Exercise 1.    \n",
    "\n",
    "Notice that one of these two messages is static, while the other needs to change according to the name of the borrower. **Because of this use a regular string for one and an f-string for the other**. Remember, it is a good practice to only use f-strings when necessary."
   ]
  },
  {
   "cell_type": "code",
   "execution_count": 7,
   "id": "7f1e81f3",
   "metadata": {
    "deletable": false,
    "name": "exercise_3",
    "tags": [
     "graded"
    ]
   },
   "outputs": [
    {
     "name": "stdout",
     "output_type": "stream",
     "text": [
      "Book is overdue - Contact Arthur Dent to return it\n"
     ]
    }
   ],
   "source": [
    "### START CODE HERE ###\n",
    "\n",
    "# Create an if/else statement\n",
    "# Check if \"book['overdue']\" equals \"True\"\n",
    "# Add your if statement here\n",
    "if book['overdue'] == True:\n",
    "    # Print \"Book is overdue - Contact <Borrower's name> to return it\"\n",
    "    # Hint: Use print with f-string to get \"book['borrower']\"'s name\n",
    "    # Add your print here\n",
    "    print(f\"Book is overdue - Contact {book['borrower']} to return it\")\n",
    "    \n",
    "# Add your else statement here\n",
    "else:\n",
    "    \n",
    "    # Set \"book['on_hold']\" to \"True\"\n",
    "    book['on_hold'] = True\n",
    "    # Add your print here\n",
    "    \n",
    "    \n",
    "    # Print \"Book has been put on hold\"\n",
    "    # Add your print here\n",
    "    print(\"Book has been put on hold\")\n",
    "\n",
    "### END CODE HERE ###"
   ]
  },
  {
   "cell_type": "markdown",
   "id": "8c5cb147",
   "metadata": {},
   "source": [
    "#### Expected Output:\n",
    "\n",
    "```\n",
    "Book is overdue - Contact Arthur Dent to return it\n",
    "```"
   ]
  },
  {
   "cell_type": "code",
   "execution_count": 8,
   "id": "fc6a80e7",
   "metadata": {
    "deletable": false,
    "editable": false
   },
   "outputs": [
    {
     "data": {
      "application/javascript": [
       "IPython.notebook.save_checkpoint();"
      ],
      "text/plain": [
       "<IPython.core.display.Javascript object>"
      ]
     },
     "metadata": {},
     "output_type": "display_data"
    },
    {
     "name": "stdout",
     "output_type": "stream",
     "text": [
      "\u001b[92m All tests passed!\n"
     ]
    }
   ],
   "source": [
    "# Test your code!\n",
    "test_your_code.exercise_3()"
   ]
  },
  {
   "cell_type": "markdown",
   "id": "27c657f3",
   "metadata": {},
   "source": [
    "<a name='4'></a>\n",
    "## Exercise 4: Tracking Down the Borrower 🔎\n",
    "\n",
    "\"To Kill a Mockingbird\" is indeed overdue! It seems Arthur Dent has been enjoying it a little too long. You need to send him a friendly reminder email. However, you only have his name – you need to find his email address from the library's records.\n",
    "\n",
    "You have a list called `borrowers_list` (provided below) that contains dictionaries. Each dictionary in the list represents a borrower and has their `name`, `email`, and `phone`. Your task is to find Arthur Dent's email address from this list. Run the cell below to load the list."
   ]
  },
  {
   "cell_type": "code",
   "execution_count": 9,
   "id": "1a0a8341",
   "metadata": {
    "deletable": false,
    "editable": false,
    "tags": [
     "graded"
    ]
   },
   "outputs": [],
   "source": [
    "# List of dictionaries with borrower contact information\n",
    "borrowers_list = [\n",
    "    {\n",
    "        \"name\": \"Alice Johnson\",\n",
    "        \"email\": \"alice.johnson@dlailibrary.com\",\n",
    "        \"phone\": \"+1111111111\"\n",
    "    },\n",
    "    {\n",
    "        \"name\": \"Bob Smith\",\n",
    "        \"email\": \"bob.smith@dlailibrary.com\",\n",
    "        \"phone\": \"+2222222222\"\n",
    "    },\n",
    "    {\n",
    "        \"name\": \"Arthur Dent\",\n",
    "        \"email\": \"arthur.dent@dlailibrary.com\",\n",
    "        \"phone\": \"+3333333333\"\n",
    "    },\n",
    "    {\n",
    "        \"name\": \"Diana Prince\",\n",
    "        \"email\": \"diana.prince@dlailibrary.com\",\n",
    "        \"phone\": \"+4444444444\"\n",
    "    }\n",
    "]"
   ]
  },
  {
   "cell_type": "markdown",
   "id": "aa47a8ca",
   "metadata": {},
   "source": [
    "**Your Task:** Get `Arthur Dent`'s email from your records of `borrowers_list`\n",
    "\n",
    "* Use a **for** loop to iterate through `borrowers_list`.\n",
    "* Check **if** the name in `book['borrower']` matches with a \"name\" present in the `borrowers_list`\n",
    "    - If the name matches, store the corresponding \"email\" in a variable `borrower_email`\n",
    "* Use the same `book` variable you defined in Exercise 1.    "
   ]
  },
  {
   "cell_type": "code",
   "execution_count": 10,
   "id": "17672ab7",
   "metadata": {
    "deletable": false,
    "name": "exercise_4",
    "tags": [
     "graded"
    ]
   },
   "outputs": [
    {
     "name": "stdout",
     "output_type": "stream",
     "text": [
      "Arthur Dent's email is: arthur.dent@dlailibrary.com\n"
     ]
    }
   ],
   "source": [
    "### START CODE HERE ###\n",
    "\n",
    "# Iterate through the borrowers_list\n",
    "# Look for 'borrower' in `borrowers_list`\n",
    "# Add your 'for' loop here\n",
    "for borrower in borrowers_list:\n",
    "    # Check if the name \"book['borrower']\" equals \"borrower['name']\"\n",
    "    # Add your if statement here\n",
    "    if book['borrower'] == borrower['name']:\n",
    "        \n",
    "        # Set \"borrower_email\" equals \"borrower['email']\"\n",
    "        borrower_email = borrower['email'] # Add your code here\n",
    "\n",
    "### END CODE HERE ###\n",
    "\n",
    "# Print the information\n",
    "print(f\"{book['borrower']}'s email is: {borrower_email}\")"
   ]
  },
  {
   "cell_type": "markdown",
   "id": "13ed125c",
   "metadata": {},
   "source": [
    "#### Expected Output:\n",
    "```\n",
    "Arthur Dent's email is: arthur.dent@dlailibrary.com\n",
    "```"
   ]
  },
  {
   "cell_type": "code",
   "execution_count": 11,
   "id": "535506ff",
   "metadata": {
    "deletable": false,
    "editable": false
   },
   "outputs": [
    {
     "data": {
      "application/javascript": [
       "IPython.notebook.save_checkpoint();"
      ],
      "text/plain": [
       "<IPython.core.display.Javascript object>"
      ]
     },
     "metadata": {},
     "output_type": "display_data"
    },
    {
     "name": "stdout",
     "output_type": "stream",
     "text": [
      "\u001b[92m All tests passed!\n"
     ]
    }
   ],
   "source": [
    "# Test your code!\n",
    "test_your_code.exercise_4(borrower_email)"
   ]
  },
  {
   "cell_type": "markdown",
   "id": "acc07e39",
   "metadata": {},
   "source": [
    "<a name='5'></a>\n",
    "## Exercise 5: The LLM to the Rescue! 🤖\n",
    "\n",
    "You've got Arthur's email address – great! Now, it's time to write him that overdue notice. To make your life easier, you decide to use an LLM (Large Language Model) to generate the email for you. LLMs are excellent at understanding instructions and crafting text. \n",
    "\n",
    "First, let's collect all of the information you want your `prompt` to include for the LLM to generate the email. Run the next cell to do that."
   ]
  },
  {
   "cell_type": "code",
   "execution_count": 12,
   "id": "a8e015eb",
   "metadata": {
    "deletable": false,
    "editable": false,
    "tags": [
     "graded"
    ]
   },
   "outputs": [],
   "source": [
    "# Name of the borrower\n",
    "person_name = book['borrower']\n",
    "\n",
    "# Name of the book\n",
    "book_name = book['title']\n",
    "\n",
    "# Name of book's author\n",
    "book_author = book['author']\n",
    "\n",
    "# Due Date\n",
    "due_date = \"16 November 2024\""
   ]
  },
  {
   "cell_type": "markdown",
   "id": "4c50ddc4",
   "metadata": {},
   "source": [
    "**Your Task:** \n",
    "\n",
    "Write a `prompt` that asks the LLM to generate an email to `person_name`, requesting them to return the book `book_name` by `book_author` before the `due_date`.\n",
    "\n",
    "    You have the flexibility to structure your prompt and wording as you see fit. The key is to include all four pieces of information (`person_name`, `book_name`, `book_author`, and `due_date`) naturally within the `prompt`'s instructions. \n",
    "\n",
    "    For example, your prompt could look something like this: \n",
    "    \"Please write a polite email to [person_name], reminding them to return the book [book_name] by [book_author].  The book was due on [due_date].\""
   ]
  },
  {
   "cell_type": "code",
   "execution_count": 13,
   "id": "8830078b",
   "metadata": {
    "deletable": false,
    "name": "exercise_5",
    "tags": [
     "graded"
    ]
   },
   "outputs": [
    {
     "name": "stdout",
     "output_type": "stream",
     "text": [
      "\n",
      "# Add your code here\n",
      "Please write a reminder email to Arthur Dent to return the book To Kill a Mockingbird by Harper Lee. The book was due on 16 November 2024.\n",
      "\n"
     ]
    }
   ],
   "source": [
    "### START CODE HERE ###\n",
    "\n",
    "prompt = f\"\"\"\n",
    "# Add your code here\n",
    "Please write a reminder email to {person_name} to return the book {book_name} by {book_author}. The book was due on {due_date}.\n",
    "\"\"\"\n",
    "\n",
    "### END CODE HERE ###\n",
    "\n",
    "print(prompt)"
   ]
  },
  {
   "cell_type": "markdown",
   "id": "4d816686",
   "metadata": {},
   "source": [
    "#### Expected Output\n",
    "```\n",
    "Your prompt containing the following details of:\n",
    "- Arthur Dent\n",
    "- To Kill a Mockingbird\n",
    "- Harper Lee\n",
    "- 16 November 2024\n",
    "\n",
    "```\n",
    "\n",
    "**Note:** You will fail the below test if your prompt excludes any one of the above mentioned details."
   ]
  },
  {
   "cell_type": "code",
   "execution_count": 14,
   "id": "07d9a437",
   "metadata": {
    "deletable": false,
    "editable": false
   },
   "outputs": [
    {
     "data": {
      "application/javascript": [
       "IPython.notebook.save_checkpoint();"
      ],
      "text/plain": [
       "<IPython.core.display.Javascript object>"
      ]
     },
     "metadata": {},
     "output_type": "display_data"
    },
    {
     "name": "stdout",
     "output_type": "stream",
     "text": [
      "\u001b[92m All tests passed!\n"
     ]
    }
   ],
   "source": [
    "# Test your code!\n",
    "test_your_code.exercise_5(prompt)"
   ]
  },
  {
   "cell_type": "markdown",
   "id": "e0f3157c",
   "metadata": {},
   "source": [
    "### Submission Note:\n",
    "If you have passed all the tests up to this point, you can submit your assignment for grading.\n",
    "\n",
    "**But before you submit your assignment, re-run the assignment just in case there are any unexpected errors present in the notebook once it goes for grading.** To do so, follow these steps:\n",
    "\n",
    "1. Restart the `Kernel` and select the `Restart & Clear Output` option. You can do this by clicking on the `Kernel` menu at the top of the notebook.\n",
    "![Kernel Restart Image](kernel_restart.png)\n",
    "2. Once the kernel restarts and all outputs are clear, run the cells from top to bottom again up to this point.\n",
    "\n",
    "If you have followed these steps and still pass all of the tests, you can submit your assignment for grading. If you encounter any errors, please fix them before submitting.\n",
    "\n",
    "To submit your assignment for grading, save your work by clicking the 💾 icon at the top left, then click the <span style=\"color: blue; font-weight: bold;\">Submit assignment</span> button at the top right. Good luck!\n",
    "\n",
    "Everything below this is OPTIONAL and will not affect your grading in anyway."
   ]
  },
  {
   "cell_type": "markdown",
   "id": "8f1fd1e9",
   "metadata": {},
   "source": [
    "Time to use the LLM! Let's import the `get_llm_response` function from the helper functions file."
   ]
  },
  {
   "cell_type": "code",
   "execution_count": 15,
   "id": "9c6fd695",
   "metadata": {
    "deletable": false,
    "editable": false
   },
   "outputs": [],
   "source": [
    "from helper_functions import get_llm_response"
   ]
  },
  {
   "cell_type": "markdown",
   "id": "f9dbd4dd",
   "metadata": {},
   "source": [
    "Pass your `prompt` to the `get_llm_response` function, and print the response."
   ]
  },
  {
   "cell_type": "code",
   "execution_count": 16,
   "id": "da10423d",
   "metadata": {
    "deletable": false,
    "editable": false
   },
   "outputs": [
    {
     "name": "stdout",
     "output_type": "stream",
     "text": [
      "Subject: Reminder: Book Return Due\n",
      "\n",
      "Dear Arthur,\n",
      "\n",
      "This is a friendly reminder to return the book \"To Kill a Mockingbird\" by Harper Lee. It was due on 16 November 2024.\n",
      "\n",
      "Thank you!\n",
      "\n",
      "Best,  \n",
      "[Your Name]\n"
     ]
    }
   ],
   "source": [
    "print(get_llm_response(prompt))"
   ]
  },
  {
   "cell_type": "markdown",
   "id": "b55205a7",
   "metadata": {},
   "source": [
    "**Congratulations on finishing this module's assignment!** 🎉 You've successfully used your Python skills to help the librarian manage book records, find borrower information, and even draft an email using an LLM. Great work! "
   ]
  }
 ],
 "metadata": {
  "grader_version": "1",
  "kernelspec": {
   "display_name": "Python 3 (ipykernel)",
   "language": "python",
   "name": "python3"
  },
  "language_info": {
   "codemirror_mode": {
    "name": "ipython",
    "version": 3
   },
   "file_extension": ".py",
   "mimetype": "text/x-python",
   "name": "python",
   "nbconvert_exporter": "python",
   "pygments_lexer": "ipython3",
   "version": "3.9.13"
  }
 },
 "nbformat": 4,
 "nbformat_minor": 5
}
